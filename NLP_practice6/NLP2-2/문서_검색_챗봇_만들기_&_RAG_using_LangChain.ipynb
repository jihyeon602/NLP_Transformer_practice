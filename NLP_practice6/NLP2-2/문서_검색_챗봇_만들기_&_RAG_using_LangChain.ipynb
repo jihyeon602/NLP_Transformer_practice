{
  "cells": [
    {
      "cell_type": "markdown",
      "metadata": {
        "id": "NXBh_CjW-TVd"
      },
      "source": [
        "# 문서 검색 챗봇 만들기 LangChain"
      ]
    },
    {
      "cell_type": "code",
      "execution_count": 5,
      "metadata": {
        "id": "AYp0-bG4rzGl"
      },
      "outputs": [],
      "source": [
        "import openai\n",
        "from PyPDF2 import PdfReader\n",
        "from langchain.embeddings.openai import OpenAIEmbeddings\n",
        "from langchain.text_splitter import CharacterTextSplitter\n",
        "from langchain.vectorstores import ElasticVectorSearch, Pinecone, Weaviate, FAISS\n",
        "import os"
      ]
    },
    {
      "cell_type": "code",
      "execution_count": 6,
      "metadata": {
        "colab": {
          "base_uri": "https://localhost:8080/"
        },
        "id": "PjqteVfBtq3s",
        "outputId": "49ad8f77-7f3b-4d62-a22c-e7b24abe28b2"
      },
      "outputs": [
        {
          "name": "stderr",
          "output_type": "stream",
          "text": [
            "'wget'��(��) ���� �Ǵ� �ܺ� ����, ������ �� �ִ� ���α׷�, �Ǵ�\n",
            "��ġ ������ �ƴմϴ�.\n"
          ]
        }
      ],
      "source": [
        "!wget https://github.com/kairess/toy-datasets/raw/master/Demian.pdf"
      ]
    },
    {
      "cell_type": "code",
      "execution_count": 7,
      "metadata": {},
      "outputs": [
        {
          "name": "stdout",
          "output_type": "stream",
          "text": [
            "다운로드 완료\n"
          ]
        }
      ],
      "source": [
        "import requests\n",
        "\n",
        "url = \"https://github.com/kairess/toy-datasets/raw/master/Demian.pdf\"\n",
        "response = requests.get(url)\n",
        "\n",
        "with open(\"Demian.pdf\", \"wb\") as f:\n",
        "    f.write(response.content)\n",
        "\n",
        "print(\"다운로드 완료\")\n"
      ]
    },
    {
      "cell_type": "markdown",
      "metadata": {
        "id": "eCb-fa4-49N5"
      },
      "source": [
        "# [주의] 레거시 코드 (실행하지 마세요)"
      ]
    },
    {
      "cell_type": "markdown",
      "metadata": {
        "id": "jpHbs7Sm2IoI"
      },
      "source": [
        "## Preprocess a PDF file"
      ]
    },
    {
      "cell_type": "code",
      "execution_count": 8,
      "metadata": {
        "id": "W76qWWDEq_QY"
      },
      "outputs": [],
      "source": [
        "reader = PdfReader(\"Demian.pdf\")\n",
        "\n",
        "raw_text = \"\"\n",
        "\n",
        "for i, page in enumerate(reader.pages):\n",
        "    text = page.extract_text()\n",
        "    if text:\n",
        "        raw_text += text\n",
        "\n",
        "raw_text = raw_text[:1000] # 안전장치"
      ]
    },
    {
      "cell_type": "markdown",
      "metadata": {
        "id": "jIhl0mzo3z3P"
      },
      "source": [
        "## Summarize 요약"
      ]
    },
    {
      "cell_type": "code",
      "execution_count": 9,
      "metadata": {
        "colab": {
          "base_uri": "https://localhost:8080/",
          "height": 438
        },
        "id": "yanA4V_uq_Nx",
        "outputId": "3501e310-4653-4bca-9605-a8c633a1bd61"
      },
      "outputs": [
        {
          "ename": "ValidationError",
          "evalue": "1 validation error for OpenAI\n  Value error, Did not find openai_api_key, please add an environment variable `OPENAI_API_KEY` which contains it, or pass `openai_api_key` as a named parameter. [type=value_error, input_value={'temperature': 0, 'model...ne, 'http_client': None}, input_type=dict]\n    For further information visit https://errors.pydantic.dev/2.11/v/value_error",
          "output_type": "error",
          "traceback": [
            "\u001b[0;31m---------------------------------------------------------------------------\u001b[0m",
            "\u001b[0;31mValidationError\u001b[0m                           Traceback (most recent call last)",
            "\u001b[0;32m<ipython-input-9-49af84d2e56b>\u001b[0m in \u001b[0;36m<cell line: 0>\u001b[0;34m()\u001b[0m\n\u001b[1;32m      3\u001b[0m \u001b[0;32mfrom\u001b[0m \u001b[0mlangchain\u001b[0m\u001b[0;34m.\u001b[0m\u001b[0mchains\u001b[0m\u001b[0;34m.\u001b[0m\u001b[0msummarize\u001b[0m \u001b[0;32mimport\u001b[0m \u001b[0mload_summarize_chain\u001b[0m\u001b[0;34m\u001b[0m\u001b[0;34m\u001b[0m\u001b[0m\n\u001b[1;32m      4\u001b[0m \u001b[0;34m\u001b[0m\u001b[0m\n\u001b[0;32m----> 5\u001b[0;31m \u001b[0mllm\u001b[0m \u001b[0;34m=\u001b[0m \u001b[0mOpenAI\u001b[0m\u001b[0;34m(\u001b[0m\u001b[0mtemperature\u001b[0m\u001b[0;34m=\u001b[0m\u001b[0;36m0\u001b[0m\u001b[0;34m)\u001b[0m\u001b[0;34m\u001b[0m\u001b[0;34m\u001b[0m\u001b[0m\n\u001b[0m\u001b[1;32m      6\u001b[0m \u001b[0msummary_chain\u001b[0m \u001b[0;34m=\u001b[0m \u001b[0mload_summarize_chain\u001b[0m\u001b[0;34m(\u001b[0m\u001b[0mllm\u001b[0m\u001b[0;34m,\u001b[0m \u001b[0mchain_type\u001b[0m\u001b[0;34m=\u001b[0m\u001b[0;34m\"map_reduce\"\u001b[0m\u001b[0;34m)\u001b[0m\u001b[0;34m\u001b[0m\u001b[0;34m\u001b[0m\u001b[0m\n\u001b[1;32m      7\u001b[0m \u001b[0;34m\u001b[0m\u001b[0m\n",
            "\u001b[0;32m/usr/local/lib/python3.11/dist-packages/langchain_core/_api/deprecation.py\u001b[0m in \u001b[0;36mwarn_if_direct_instance\u001b[0;34m(self, *args, **kwargs)\u001b[0m\n\u001b[1;32m    222\u001b[0m                         \u001b[0mwarned\u001b[0m \u001b[0;34m=\u001b[0m \u001b[0;32mTrue\u001b[0m\u001b[0;34m\u001b[0m\u001b[0;34m\u001b[0m\u001b[0m\n\u001b[1;32m    223\u001b[0m                         \u001b[0memit_warning\u001b[0m\u001b[0;34m(\u001b[0m\u001b[0;34m)\u001b[0m\u001b[0;34m\u001b[0m\u001b[0;34m\u001b[0m\u001b[0m\n\u001b[0;32m--> 224\u001b[0;31m                     \u001b[0;32mreturn\u001b[0m \u001b[0mwrapped\u001b[0m\u001b[0;34m(\u001b[0m\u001b[0mself\u001b[0m\u001b[0;34m,\u001b[0m \u001b[0;34m*\u001b[0m\u001b[0margs\u001b[0m\u001b[0;34m,\u001b[0m \u001b[0;34m**\u001b[0m\u001b[0mkwargs\u001b[0m\u001b[0;34m)\u001b[0m\u001b[0;34m\u001b[0m\u001b[0;34m\u001b[0m\u001b[0m\n\u001b[0m\u001b[1;32m    225\u001b[0m \u001b[0;34m\u001b[0m\u001b[0m\n\u001b[1;32m    226\u001b[0m                 obj.__init__ = functools.wraps(obj.__init__)(  # type: ignore[misc]\n",
            "\u001b[0;32m/usr/local/lib/python3.11/dist-packages/langchain_core/load/serializable.py\u001b[0m in \u001b[0;36m__init__\u001b[0;34m(self, *args, **kwargs)\u001b[0m\n\u001b[1;32m    128\u001b[0m     \u001b[0;32mdef\u001b[0m \u001b[0m__init__\u001b[0m\u001b[0;34m(\u001b[0m\u001b[0mself\u001b[0m\u001b[0;34m,\u001b[0m \u001b[0;34m*\u001b[0m\u001b[0margs\u001b[0m\u001b[0;34m:\u001b[0m \u001b[0mAny\u001b[0m\u001b[0;34m,\u001b[0m \u001b[0;34m**\u001b[0m\u001b[0mkwargs\u001b[0m\u001b[0;34m:\u001b[0m \u001b[0mAny\u001b[0m\u001b[0;34m)\u001b[0m \u001b[0;34m->\u001b[0m \u001b[0;32mNone\u001b[0m\u001b[0;34m:\u001b[0m\u001b[0;34m\u001b[0m\u001b[0;34m\u001b[0m\u001b[0m\n\u001b[1;32m    129\u001b[0m         \u001b[0;34m\"\"\"\"\"\"\u001b[0m  \u001b[0;31m# noqa: D419\u001b[0m\u001b[0;34m\u001b[0m\u001b[0;34m\u001b[0m\u001b[0m\n\u001b[0;32m--> 130\u001b[0;31m         \u001b[0msuper\u001b[0m\u001b[0;34m(\u001b[0m\u001b[0;34m)\u001b[0m\u001b[0;34m.\u001b[0m\u001b[0m__init__\u001b[0m\u001b[0;34m(\u001b[0m\u001b[0;34m*\u001b[0m\u001b[0margs\u001b[0m\u001b[0;34m,\u001b[0m \u001b[0;34m**\u001b[0m\u001b[0mkwargs\u001b[0m\u001b[0;34m)\u001b[0m\u001b[0;34m\u001b[0m\u001b[0;34m\u001b[0m\u001b[0m\n\u001b[0m\u001b[1;32m    131\u001b[0m \u001b[0;34m\u001b[0m\u001b[0m\n\u001b[1;32m    132\u001b[0m     \u001b[0;34m@\u001b[0m\u001b[0mclassmethod\u001b[0m\u001b[0;34m\u001b[0m\u001b[0;34m\u001b[0m\u001b[0m\n",
            "\u001b[0;32m/usr/local/lib/python3.11/dist-packages/pydantic/main.py\u001b[0m in \u001b[0;36m__init__\u001b[0;34m(self, **data)\u001b[0m\n\u001b[1;32m    251\u001b[0m         \u001b[0;31m# `__tracebackhide__` tells pytest and some other tools to omit this function from tracebacks\u001b[0m\u001b[0;34m\u001b[0m\u001b[0;34m\u001b[0m\u001b[0m\n\u001b[1;32m    252\u001b[0m         \u001b[0m__tracebackhide__\u001b[0m \u001b[0;34m=\u001b[0m \u001b[0;32mTrue\u001b[0m\u001b[0;34m\u001b[0m\u001b[0;34m\u001b[0m\u001b[0m\n\u001b[0;32m--> 253\u001b[0;31m         \u001b[0mvalidated_self\u001b[0m \u001b[0;34m=\u001b[0m \u001b[0mself\u001b[0m\u001b[0;34m.\u001b[0m\u001b[0m__pydantic_validator__\u001b[0m\u001b[0;34m.\u001b[0m\u001b[0mvalidate_python\u001b[0m\u001b[0;34m(\u001b[0m\u001b[0mdata\u001b[0m\u001b[0;34m,\u001b[0m \u001b[0mself_instance\u001b[0m\u001b[0;34m=\u001b[0m\u001b[0mself\u001b[0m\u001b[0;34m)\u001b[0m\u001b[0;34m\u001b[0m\u001b[0;34m\u001b[0m\u001b[0m\n\u001b[0m\u001b[1;32m    254\u001b[0m         \u001b[0;32mif\u001b[0m \u001b[0mself\u001b[0m \u001b[0;32mis\u001b[0m \u001b[0;32mnot\u001b[0m \u001b[0mvalidated_self\u001b[0m\u001b[0;34m:\u001b[0m\u001b[0;34m\u001b[0m\u001b[0;34m\u001b[0m\u001b[0m\n\u001b[1;32m    255\u001b[0m             warnings.warn(\n",
            "\u001b[0;31mValidationError\u001b[0m: 1 validation error for OpenAI\n  Value error, Did not find openai_api_key, please add an environment variable `OPENAI_API_KEY` which contains it, or pass `openai_api_key` as a named parameter. [type=value_error, input_value={'temperature': 0, 'model...ne, 'http_client': None}, input_type=dict]\n    For further information visit https://errors.pydantic.dev/2.11/v/value_error"
          ]
        }
      ],
      "source": [
        "from langchain import OpenAI\n",
        "from langchain.chains import AnalyzeDocumentChain\n",
        "from langchain.chains.summarize import load_summarize_chain\n",
        "\n",
        "llm = OpenAI(temperature=0)\n",
        "summary_chain = load_summarize_chain(llm, chain_type=\"map_reduce\")\n",
        "\n",
        "summarize_document_chain = AnalyzeDocumentChain(combine_docs_chain=summary_chain)"
      ]
    },
    {
      "cell_type": "code",
      "execution_count": null,
      "metadata": {
        "colab": {
          "base_uri": "https://localhost:8080/",
          "height": 122
        },
        "id": "sdBRVPJpuUVk",
        "outputId": "58ed0d3d-7bf5-422e-cf03-61297bcad967"
      },
      "outputs": [
        {
          "data": {
            "application/vnd.google.colaboratory.intrinsic+json": {
              "type": "string"
            },
            "text/plain": [
              "\" Hermann Hesse's Demian follows the journey of a young man as he discovers his true identity and learns to accept himself. He meets Max Demian, who helps him to understand the importance of self-reliance and the power of his own ideas. Through Demian's influence, the protagonist learns to accept his place in the world and to embrace his own unique story. Along the way, he meets Pistorius, who teaches him about Abraxas, and Eva, Demian's mother, who encourages him to find his dream and remain faithful to it. When war is declared, Sinclair goes to the front and finds something akin to humanity beneath the surface of the war. In the end, he finds comfort in the knowledge that his own image now resembles his friend and leader.\""
            ]
          },
          "execution_count": 15,
          "metadata": {},
          "output_type": "execute_result"
        }
      ],
      "source": [
        "summarize_document_chain.run(raw_text)"
      ]
    },
    {
      "cell_type": "markdown",
      "metadata": {
        "id": "aU16rhaRwSSA"
      },
      "source": [
        "### How much?\n",
        "\n",
        "- text-davinci, 6 requests\n",
        "- 101,611 prompt + 8,930 completion = 110,541 tokens\n",
        "- $0.47 == ₩611"
      ]
    },
    {
      "cell_type": "markdown",
      "metadata": {
        "id": "A3fokvWF3pYr"
      },
      "source": [
        "## Question Answering 질문 답변\n",
        "\n",
        "1~3분 소요"
      ]
    },
    {
      "cell_type": "code",
      "execution_count": null,
      "metadata": {
        "id": "xkg7o2HqusGG"
      },
      "outputs": [],
      "source": [
        "from langchain.chains.question_answering import load_qa_chain\n",
        "from langchain.chat_models import ChatOpenAI\n",
        "\n",
        "model = ChatOpenAI(model=\"gpt-4\") # gpt-3.5-turbo, gpt-4, gpt-4o\n",
        "\n",
        "qa_chain = load_qa_chain(model, chain_type=\"map_reduce\")\n",
        "qa_document_chain = AnalyzeDocumentChain(combine_docs_chain=qa_chain)"
      ]
    },
    {
      "cell_type": "code",
      "execution_count": null,
      "metadata": {
        "colab": {
          "base_uri": "https://localhost:8080/",
          "height": 36
        },
        "id": "apm_K1P9x-6O",
        "outputId": "df6b4bb6-925b-4130-f60a-332c2de05fa3"
      },
      "outputs": [
        {
          "data": {
            "application/vnd.google.colaboratory.intrinsic+json": {
              "type": "string"
            },
            "text/plain": [
              "'싱클레어를 괴롭힌 사람은 Franz Kromer입니다.'"
            ]
          },
          "execution_count": 19,
          "metadata": {},
          "output_type": "execute_result"
        }
      ],
      "source": [
        "qa_document_chain.run(\n",
        "    input_document=raw_text,\n",
        "    question=\"싱클레어를 괴롭힌 사람은?\")"
      ]
    },
    {
      "cell_type": "code",
      "execution_count": null,
      "metadata": {
        "colab": {
          "base_uri": "https://localhost:8080/",
          "height": 36
        },
        "id": "fHgeMcB2xi9n",
        "outputId": "d77d194e-0c86-4929-93c6-822f5c8425d1"
      },
      "outputs": [
        {
          "data": {
            "application/vnd.google.colaboratory.intrinsic+json": {
              "type": "string"
            },
            "text/plain": [
              "'제공된 텍스트에서는 싱클레어가 데미안을 만난 경위에 대한 구체적인 정보가 제공되지 않습니다. 따라서 이 질문에 대한 답변을 제공할 수 없습니다.'"
            ]
          },
          "execution_count": 18,
          "metadata": {},
          "output_type": "execute_result"
        }
      ],
      "source": [
        "qa_document_chain.run(\n",
        "    input_document=raw_text,\n",
        "    question=\"싱클레어는 데미안을 어디서 어떻게 만났지?\")"
      ]
    },
    {
      "cell_type": "code",
      "execution_count": null,
      "metadata": {
        "colab": {
          "base_uri": "https://localhost:8080/",
          "height": 36
        },
        "id": "1wEAPH_91rjr",
        "outputId": "6222d92f-240b-446d-971d-fbb30c5d2cf3"
      },
      "outputs": [
        {
          "data": {
            "application/vnd.google.colaboratory.intrinsic+json": {
              "type": "string"
            },
            "text/plain": [
              "'저는 주어진 텍스트에서 데미안의 외모에 대한 구체적인 묘사를 찾을 수 없었습니다. 따라서 데미안의 외모에 대한 정보를 제공할 수 없습니다.'"
            ]
          },
          "execution_count": 20,
          "metadata": {},
          "output_type": "execute_result"
        }
      ],
      "source": [
        "qa_document_chain.run(\n",
        "    input_document=raw_text,\n",
        "    question=\"데미안의 외모를 묘사해봐\")"
      ]
    },
    {
      "cell_type": "markdown",
      "metadata": {
        "id": "JPwxmFMT345n"
      },
      "source": [
        "### GPT-4\n",
        "\n",
        "11분 소요\n",
        "\n",
        "- gpt-4-0314, 28 requests\n",
        "    - 29,503 prompt + 1,111 completion = 30,614 tokens tokens\n",
        "- gpt-4-0314, 42 requests\n",
        "    - 44,041 prompt + 1,784 completion = 45,825 tokens\n",
        "- gpt-4-0314, 10 requests\n",
        "    - 10,652 prompt + 865 completion = 11,517 tokens\n",
        "\n",
        "\n",
        "87,956 tokens total == $5.28\n",
        "\n",
        "> $0.06 / 1K tokens"
      ]
    },
    {
      "cell_type": "code",
      "execution_count": null,
      "metadata": {
        "colab": {
          "base_uri": "https://localhost:8080/",
          "height": 53
        },
        "id": "COXjS5Hx1uJy",
        "outputId": "53313615-4189-4ff7-ef40-267b5c8a4d61"
      },
      "outputs": [
        {
          "data": {
            "application/vnd.google.colaboratory.intrinsic+json": {
              "type": "string"
            },
            "text/plain": [
              "'데미안의 외모는 다음과 같이 묘사되어 있습니다: 근접한 갈색 머리카락, 반여성적인 입, 이상한 밝기를 가진 강한 이마, 그리고 넓게 벌어진 녹색 눈동자로, 오른쪽 눈이 왼쪽 눈보다 약간 높게 위치해 있습니다. 또한, 데미안은 군복을 입고 은색 회색 망토를 입은 모습이 기묘하고 이상한 것처럼 묘사되어 있습니다.'"
            ]
          },
          "execution_count": 22,
          "metadata": {},
          "output_type": "execute_result"
        }
      ],
      "source": [
        "model = ChatOpenAI(model=\"gpt-4\") # gpt-3.5-turbo, gpt-4, gpt-4o\n",
        "\n",
        "qa_chain = load_qa_chain(model, chain_type=\"map_reduce\")\n",
        "qa_document_chain = AnalyzeDocumentChain(combine_docs_chain=qa_chain)\n",
        "\n",
        "qa_document_chain.run(\n",
        "    input_document=raw_text,\n",
        "    question=\"데미안의 외모를 묘사해봐\")"
      ]
    },
    {
      "cell_type": "markdown",
      "metadata": {
        "id": "TW0kd-zC5Sjj"
      },
      "source": [
        "# 개선 코드 (여기서부터 실행하세요)"
      ]
    },
    {
      "cell_type": "code",
      "execution_count": null,
      "metadata": {
        "colab": {
          "base_uri": "https://localhost:8080/"
        },
        "id": "nlgOL0sh5mzj",
        "outputId": "5ccb67da-87b5-4e9d-eefd-53e56db4fbe5"
      },
      "outputs": [],
      "source": [
        "!pip install -q langchain langchain-community openai pypdf chromadb tiktoken langchain-openai"
      ]
    },
    {
      "cell_type": "code",
      "execution_count": 9,
      "metadata": {
        "id": "F_p3bZRzU_t_"
      },
      "outputs": [],
      "source": [
        "import os\n",
        "from langchain.embeddings import OpenAIEmbeddings\n",
        "from langchain.vectorstores import Chroma\n",
        "from langchain.text_splitter import RecursiveCharacterTextSplitter\n",
        "# from langchain.llms import OpenAI\n",
        "from langchain_openai import ChatOpenAI\n",
        "from langchain.chains import RetrievalQA\n",
        "from langchain.document_loaders import PyPDFLoader\n",
        "from langchain.chains.summarize import load_summarize_chain"
      ]
    },
    {
      "cell_type": "markdown",
      "metadata": {
        "id": "botA-DzxgIfb"
      },
      "source": [
        "## OpenAI API Key\n",
        "\n",
        "https://platform.openai.com/account/api-keys"
      ]
    },
    {
      "cell_type": "code",
      "execution_count": null,
      "metadata": {
        "id": "Aup2e8Ee5Wej"
      },
      "outputs": [],
      "source": [
        "os.environ[\"OPENAI_API_KEY\"] = \"{YOUR_KEY}\""
      ]
    },
    {
      "cell_type": "markdown",
      "metadata": {
        "id": "KKIoQGn3gLuh"
      },
      "source": [
        "## 문서 다운로드 및 로드"
      ]
    },
    {
      "cell_type": "code",
      "execution_count": 12,
      "metadata": {
        "colab": {
          "base_uri": "https://localhost:8080/"
        },
        "id": "Jzp10fDHVlU5",
        "outputId": "6c6fc082-f6ac-4f21-ad87-713d47c656a9"
      },
      "outputs": [
        {
          "name": "stdout",
          "output_type": "stream",
          "text": [
            "--2025-06-04 03:24:07--  https://github.com/kairess/toy-datasets/raw/master/Demian.pdf\n",
            "Resolving github.com (github.com)... 140.82.113.4\n",
            "Connecting to github.com (github.com)|140.82.113.4|:443... connected.\n",
            "HTTP request sent, awaiting response... 302 Found\n",
            "Location: https://raw.githubusercontent.com/kairess/toy-datasets/master/Demian.pdf [following]\n",
            "--2025-06-04 03:24:08--  https://raw.githubusercontent.com/kairess/toy-datasets/master/Demian.pdf\n",
            "Resolving raw.githubusercontent.com (raw.githubusercontent.com)... 185.199.108.133, 185.199.109.133, 185.199.110.133, ...\n",
            "Connecting to raw.githubusercontent.com (raw.githubusercontent.com)|185.199.108.133|:443... connected.\n",
            "HTTP request sent, awaiting response... 200 OK\n",
            "Length: 5683449 (5.4M) [application/octet-stream]\n",
            "Saving to: ‘Demian.pdf.1’\n",
            "\n",
            "Demian.pdf.1        100%[===================>]   5.42M  --.-KB/s    in 0.02s   \n",
            "\n",
            "2025-06-04 03:24:08 (232 MB/s) - ‘Demian.pdf.1’ saved [5683449/5683449]\n",
            "\n"
          ]
        }
      ],
      "source": [
        "!wget https://github.com/kairess/toy-datasets/raw/master/Demian.pdf"
      ]
    },
    {
      "cell_type": "code",
      "execution_count": 23,
      "metadata": {
        "colab": {
          "base_uri": "https://localhost:8080/",
          "height": 179
        },
        "id": "X-yUd5SAVfSA",
        "outputId": "ab9efa50-caac-47f6-c998-b7fbe16a31df"
      },
      "outputs": [
        {
          "name": "stdout",
          "output_type": "stream",
          "text": [
            "전체 페이지 수: 182\n"
          ]
        },
        {
          "data": {
            "text/plain": [
              "\"DEMIAN \\n• \\nDownloaded from https://www.holybooks.com\\nHERMANN \\nHESSE \\n• DEMIAN \\n* \\nTranslated by W. J. Strachan \\nLondon \\nDownloaded from https://www.holybooks.com\\nPrologue \\nI cannot tell my story without going a long way back. \\nIf it were possible I would go back much farther still to \\nthe very earliest years of my childhood and beyond them \\nto my family origins. \\nWhen poets write novels they are apt to behave as if \\nthey were gods, with the power to look beyond and com\\xad\\nprehend any human story and serve it up as if the \\nAlmighty himself, omnipresent, were relating it in all \\nits naked truth. That I am no more able to do than the \\npoets. But my story is more important to me than any \\npoet's story to him, for it is my own-and it is the story \\nof a huffian being-not an invented, idealised person \\nbut a real, live, uniq:-e being. What constitutes a real, \\nlive human being is more of a mystery than ever these \\ndays, and men-each one of whom is a valuable, unique \\nexperiment on the part of n\""
            ]
          },
          "execution_count": 23,
          "metadata": {},
          "output_type": "execute_result"
        }
      ],
      "source": [
        "from langchain_community.document_loaders import PyPDFLoader\n",
        "\n",
        "loader = PyPDFLoader(\"Demian.pdf\")\n",
        "documents = loader.load()\n",
        "\n",
        "\n",
        "print(f\"전체 페이지 수: {len(documents)}\")\n",
        "\n",
        "full_text = \"\\n\".join([doc.page_content for doc in documents[:10]]) # 10페이지 제한 (비용, 시간)\n",
        "\n",
        "full_text[:1000]"
      ]
    },
    {
      "cell_type": "markdown",
      "metadata": {
        "id": "9usCRjWdgOUH"
      },
      "source": [
        "## 문서 분절"
      ]
    },
    {
      "cell_type": "code",
      "execution_count": 24,
      "metadata": {
        "colab": {
          "base_uri": "https://localhost:8080/"
        },
        "id": "dlrZdw-7WdQG",
        "outputId": "e85ddd13-82fb-4d96-caed-d420006fb2fa"
      },
      "outputs": [
        {
          "name": "stdout",
          "output_type": "stream",
          "text": [
            "===== PAGE 2 =====\n",
            "page_content='creature, deserving the \\ltmOSt attention. In each indi­\n",
            "vidual the spirit is made 'flesh, in each one the whole of \n",
            "creation suffers, in each one a Saviour is crucified. \n",
            "Few people nowadays know what man is. Many feel it \n",
            "intuitively and die more easily for that reason, just as I \n",
            "shall die more easily when I have completed this story. \n",
            "I cannot call myself a scholar. I have always been and \n",
            "still am a seeker but I no longer do my seeking among \n",
            "the stars or in books. I am beginning to hear the lessons \n",
            "which whisper in my blood. Mine is not a pleasant story, \n",
            "it does not possess the gentle harmony of invented tales; \n",
            "like the lives of all men who have given up trying to \n",
            "deceive themselves, it is a mixture of nonsense and \n",
            "chaos, madness and dreams. \n",
            "The life of every man is a way to himself, an attempt \n",
            "at a way, the suggestion of a path. No man has ever \n",
            "been utterly himself, yet every man strives to be so, the \n",
            "dull. the intelligent, each one as best he can. Each man'\n",
            "===== PAGE 3 =====\n",
            "page_content='at a way, the suggestion of a path. No man has ever \n",
            "been utterly himself, yet every man strives to be so, the \n",
            "dull. the intelligent, each one as best he can. Each man \n",
            "to the end of his days carries round with him vestiges \n",
            "of his birth-the slime and egg-shells of the primeval \n",
            "world. There are many who never become human; they \n",
            "remain frogs, lizards, ants. Many men are human beings \n",
            "above and fish below. Yet each one represents an attempt \n",
            "on the part of nature to create a human being. We \n",
            "enjoy a common origin in our mothers; we all come \n",
            "from the same pit. But each individual, who is himself \n",
            "an experimental throw from the depths, strives towards \n",
            "his own goal. We can understand each other; but each \n",
            "person is able to interpret himself to himself alone. \n",
            "6 \n",
            "Downloaded from https://www.holybooks.com\n",
            "I \n",
            "Two Worlds \n",
            "I begin my story with an event from the time when I \n",
            "was ten years old, attending the local grammar school \n",
            "in our small country town.'\n"
          ]
        }
      ],
      "source": [
        "text_splitter = RecursiveCharacterTextSplitter(\n",
        "    chunk_size=1000,\n",
        "    chunk_overlap=200,\n",
        "    length_function=len,\n",
        "    separators=[\"\\n\\n\", \"\\n\", \" \", \"\"]\n",
        ")\n",
        "texts = text_splitter.create_documents([full_text])\n",
        "\n",
        "print(\"===== PAGE 2 =====\")\n",
        "print(texts[2])\n",
        "print(\"===== PAGE 3 =====\")\n",
        "print(texts[3])"
      ]
    },
    {
      "cell_type": "markdown",
      "metadata": {
        "id": "EwmbjHMagWeL"
      },
      "source": [
        "## 임베딩 및 벡터 데이터베이스 생성"
      ]
    },
    {
      "cell_type": "code",
      "execution_count": 33,
      "metadata": {
        "colab": {
          "base_uri": "https://localhost:8080/",
          "height": 440
        },
        "id": "cjFi7zQ6Zeqa",
        "outputId": "d23d5a2b-3cf4-48f0-a4fd-178f686657af"
      },
      "outputs": [],
      "source": [
        "from langchain.embeddings import HuggingFaceEmbeddings\n",
        "\n",
        "embeddings = HuggingFaceEmbeddings(model_name=\"sentence-transformers/all-MiniLM-L6-v2\")\n",
        "# OpenAI 임베딩 초기화\n",
        "#embeddings = OpenAIEmbeddings()\n",
        "\n",
        "# 벡터 데이터베이스 생성 및 유지\n",
        "vectorstore = Chroma.from_documents(texts, embeddings, persist_directory=\"./chroma_db\")\n",
        "# vectorstore.persist()"
      ]
    },
    {
      "cell_type": "markdown",
      "metadata": {
        "id": "WJufgOh-gZEq"
      },
      "source": [
        "## 1. 요약 체인 (Summarize Chain)\n",
        "\n",
        "1. \"Map\" 단계\n",
        "\n",
        "- 긴 문서를 작은 조각들로 나눕니다.\n",
        "- 각 조각에 대해 개별적으로 요약을 생성합니다.\n",
        "\n",
        "\n",
        "2. \"Reduce\" 단계\n",
        "\n",
        "- \"Map\" 단계에서 생성된 모든 개별 요약들을 모읍니다.\n",
        "- 이 요약들을 하나의 최종 요약으로 결합합니다."
      ]
    },
    {
      "cell_type": "code",
      "execution_count": null,
      "metadata": {},
      "outputs": [],
      "source": [
        "from langchain.embeddings import HuggingFaceEmbeddings\n",
        "from langchain.llms import HuggingFaceHub\n",
        "\n",
        "# Hugging Face 허브에서 무료 모델 사용\n",
        "llm = HuggingFaceHub(\n",
        "    repo_id=\"google/flan-t5-base\",  # 또는 'facebook/bart-large-cnn'\n",
        "    model_kwargs={\"temperature\": 0.7, \"max_length\": 512}\n",
        ")\n",
        "\n",
        "# 요약 체인 재설정\n",
        "from langchain.chains.summarize import load_summarize_chain\n",
        "summarize_chain = load_summarize_chain(llm, chain_type=\"map_reduce\")\n",
        "summary = summarize_chain.run(texts)\n"
      ]
    },
    {
      "cell_type": "code",
      "execution_count": null,
      "metadata": {
        "colab": {
          "base_uri": "https://localhost:8080/",
          "height": 402
        },
        "id": "UYIWPdF4aBo2",
        "outputId": "715f3ea8-af16-425b-b6a1-19f93bbb4a10"
      },
      "outputs": [],
      "source": [
        "# 언어 모델 초기화\n",
        "llm = ChatOpenAI(model=\"gpt-3.5-turbo\", temperature=0)\n",
        "\n",
        "# 요약 체인 설정\n",
        "summarize_chain = load_summarize_chain(llm, chain_type=\"map_reduce\")\n",
        "\n",
        "# 문서 요약 생성\n",
        "summary = summarize_chain.run(texts)\n",
        "\n",
        "# 요약 결과 출력\n",
        "summary"
      ]
    },
    {
      "cell_type": "markdown",
      "metadata": {
        "id": "d03Kg7voggf_"
      },
      "source": [
        "## 2. 질문응답 체인 (QA Chain)"
      ]
    },
    {
      "cell_type": "code",
      "execution_count": null,
      "metadata": {
        "colab": {
          "base_uri": "https://localhost:8080/",
          "height": 35
        },
        "id": "HuGXk7OWc0y3",
        "outputId": "739c7f73-522b-4c6a-e2c8-01d3e092d4d7"
      },
      "outputs": [
        {
          "data": {
            "application/vnd.google.colaboratory.intrinsic+json": {
              "type": "string"
            },
            "text/plain": [
              "'싱클레어를 괴롭힌 사람의 이름은 프란츠 크로머(Franz Kromer)입니다.'"
            ]
          },
          "execution_count": 10,
          "metadata": {},
          "output_type": "execute_result"
        }
      ],
      "source": [
        "# RetrievalQA 체인 생성\n",
        "qa_chain = RetrievalQA.from_chain_type(\n",
        "    llm=llm,\n",
        "    chain_type=\"stuff\",\n",
        "    retriever=vectorstore.as_retriever(),\n",
        "    return_source_documents=True\n",
        ")\n",
        "\n",
        "question = \"싱클레어를 괴롭힌 사람의 이름은?\"\n",
        "\n",
        "result = qa_chain.invoke({\"query\": question})\n",
        "\n",
        "answer = result[\"result\"]\n",
        "\n",
        "answer"
      ]
    },
    {
      "cell_type": "code",
      "execution_count": null,
      "metadata": {
        "colab": {
          "base_uri": "https://localhost:8080/"
        },
        "id": "p1lvDOt0c1bk",
        "outputId": "8d1557e0-5874-4c5b-bd46-4e49cd2e06ab"
      },
      "outputs": [
        {
          "name": "stdout",
          "output_type": "stream",
          "text": [
            "===== 출처 1 =====\n",
            "page_content='creature, deserving the \\ltmOSt attention. In each indi­\n",
            "vidual the spirit is made 'flesh, in each one the whole of \n",
            "creation suffers, in each one a Saviour is crucified. \n",
            "Few people nowadays know what man is. Many feel it \n",
            "intuitively and die more easily for that reason, just as I \n",
            "shall die more easily when I have completed this story. \n",
            "I cannot call myself a scholar. I have always been and \n",
            "still am a seeker but I no longer do my seeking among \n",
            "the stars or in books. I am beginning to hear the lessons \n",
            "which whisper in my blood. Mine is not a pleasant story, \n",
            "it does not possess the gentle harmony of invented tales; \n",
            "like the lives of all men who have given up trying to \n",
            "deceive themselves, it is a mixture of nonsense and \n",
            "chaos, madness and dreams. \n",
            "The life of every man is a way to himself, an attempt \n",
            "at a way, the suggestion of a path. No man has ever \n",
            "been utterly himself, yet every man strives to be so, the \n",
            "dull. the intelligent, each one as best he can. Each man'\n",
            "===== 출처 2 =====\n",
            "page_content='penitence and the painful moment when I begged for­\n",
            "giveness and then, once again, a beam of light, a tran­\n",
            "quil, grateful unclouded goodness for hou~r mom­\n",
            "ents as the case might be. \n",
            "I attended the local grammar school. The mayor's \n",
            "son and the head forester's son were in my class and \n",
            "sometimes joined me. They were wild fellows, yet they \n",
            "belonged to the 'respectable' world. But I also had close \n",
            "relations with neighb::>urs' sons, village lads on whom \n",
            "we normally looked down. It is with one of these that \n",
            "my story begins \n",
            "One half-holiday-I was little more than ten years old \n",
            "-I was playing around with two boys from the neigh­\n",
            "bourhood. A bigger boy joined us, a rough, burly lad of \n",
            "about thirteen from the village school, the tai_lor's son. \n",
            "His father drank, and the whole family had a bad name. \n",
            "I knew Franz Kromer well, and went about in fear of \n",
            "him so that I felt very uneasy when he came along. He \n",
            "had already acquired grown-up ways and imitated the'\n",
            "===== 출처 3 =====\n",
            "page_content='him, and avoided me from the start. I was a stranger \n",
            "among them and felt that my clothes and manners were \n",
            "taken as a kind of challenge. Franz could not possibly \n",
            "have any love for me, a grammar schoof boy and a \n",
            "gentleman's son and I was in no doubt that the other \n",
            "two, if it came to it, would disown and desert me. \n",
            "u \n",
            "Downloaded from https://www.holybooks.com'\n"
          ]
        }
      ],
      "source": [
        "sources = result[\"source_documents\"]\n",
        "\n",
        "# 출처 출력 (상위 3개 출처만 표시)\n",
        "for idx, source in enumerate(sources[:3]):\n",
        "    print(f\"===== 출처 {idx + 1} =====\")\n",
        "    print(source)"
      ]
    },
    {
      "cell_type": "code",
      "execution_count": null,
      "metadata": {
        "colab": {
          "base_uri": "https://localhost:8080/",
          "height": 54
        },
        "id": "QtVWy_XMff9C",
        "outputId": "286fc227-3055-4df0-83db-5696884d6cfe"
      },
      "outputs": [
        {
          "data": {
            "application/vnd.google.colaboratory.intrinsic+json": {
              "type": "string"
            },
            "text/plain": [
              "'죄송합니다만, 제공된 문맥에서는 데미안의 외모에 대한 구체적인 설명이 없습니다. 데미안의 외모에 대한 정보가 필요하다면, 원본 텍스트의 다른 부분을 참조하시거나 책을 직접 읽어보시는 것이 좋겠습니다.'"
            ]
          },
          "execution_count": 13,
          "metadata": {},
          "output_type": "execute_result"
        }
      ],
      "source": [
        "# RetrievalQA 체인 생성\n",
        "qa_chain = RetrievalQA.from_chain_type(\n",
        "    llm=llm,\n",
        "    chain_type=\"stuff\",\n",
        "    retriever=vectorstore.as_retriever(),\n",
        "    return_source_documents=True\n",
        ")\n",
        "\n",
        "question = \"데미안의 외모는?\"\n",
        "\n",
        "result = qa_chain.invoke({\"query\": question})\n",
        "\n",
        "answer = result[\"result\"]\n",
        "\n",
        "answer"
      ]
    },
    {
      "cell_type": "code",
      "execution_count": null,
      "metadata": {
        "colab": {
          "base_uri": "https://localhost:8080/"
        },
        "id": "FqWing2fglL2",
        "outputId": "de229432-dcfc-4388-e85b-f0b031031781"
      },
      "outputs": [
        {
          "name": "stdout",
          "output_type": "stream",
          "text": [
            "===== 출처 1 =====\n",
            "page_content='9 \n",
            "Downloaded from https://www.holybooks.com\n",
            "DEMIAN \n",
            "alone was the right, good, worthy thing; and yet I found \n",
            "the part of the story which was played among the wicked \n",
            "and lost souls far more-. alluring. \"If it had been per­\n",
            "missible to speak ou,J: and confess, I should have admitted \n",
            "that it often seemed a shame to me that the Prodigal \n",
            "Son should atone and be 'found' again-though this \n",
            "feeling was only vaguely present deep down within me \n",
            "like a presentiment or possibility. When I pictured the \n",
            "devil to myself, I found no difficulty in visualizing him \n",
            "in the street below, disguised or undisguised, or at the \n",
            "fair or in a tavern but never at home. \n",
            "My sisters belonged likewise to the world of light. It \n",
            "often seemed to me that they were closer in temperament \n",
            "to father and mother, better and more refined and with \n",
            "fewer faults than I. Of course they had their defects and \n",
            "their vagaries but these did not appear to me to go very \n",
            "deep. It was not as with me whose contact with evil'\n",
            "===== 출처 2 =====\n",
            "page_content='by mounted gendarmes. Everywhere you could smell this \n",
            "vigorous, second world-everywhere, that is, except in \n",
            "our house where my mother and father lived. There it \n",
            "was all goodness. It was wonderful to be living in a \n",
            "house in a reign of peace, order, tranquillity, duty and \n",
            "good conscience, forgiveness and love-but it was no less \n",
            "wonderful to know there was the other, the loud and \n",
            "shrill, sullen and violent world from which you could \n",
            "dart back to your mother in one leap. \n",
            "The odd thing about it was that these worlds should \n",
            "border on each other so closely. When, for example, our \n",
            "8 \n",
            "Downloaded from https://www.holybooks.com\n",
            "TWO WORLDS \n",
            "servant Lina sat by the door in the living-room at even­\n",
            "ing prayers and joined in the hymn in her clear voice, \n",
            "her freshly washed hands folded on her smoothed down \n",
            "pinafore, she belonged wholly and utterly to mother \n",
            "and father, to us, the world of light and righteousness. \n",
            "But when in the kitchen or woodshed immediately after­'\n",
            "===== 출처 3 =====\n",
            "page_content='DEMIAN • \n",
            "Downloaded from https://www.holybooks.com\n",
            "HERMANN \n",
            "HESSE • DEMIAN \n",
            "* \n",
            "Translated by W. J. Strachan \n",
            "London \n",
            "Downloaded from https://www.holybooks.com\n",
            "Prologue \n",
            "I cannot tell my story without going a long way back. \n",
            "If it were possible I would go back much farther still to \n",
            "the very earliest years of my childhood and beyond them \n",
            "to my family origins. \n",
            "When poets write novels they are apt to behave as if \n",
            "they were gods, with the power to look beyond and com­\n",
            "prehend any human story and serve it up as if the \n",
            "Almighty himself, omnipresent, were relating it in all \n",
            "its naked truth. That I am no more able to do than the \n",
            "poets. But my story is more important to me than any \n",
            "poet's story to him, for it is my own-and it is the story \n",
            "of a huffian being-not an invented, idealised person \n",
            "but a real, live, uniq:-e being. What constitutes a real, \n",
            "live human being is more of a mystery than ever these \n",
            "days, and men-each one of whom is a valuable, unique'\n"
          ]
        }
      ],
      "source": [
        "sources = result[\"source_documents\"]\n",
        "\n",
        "# 출처 출력 (상위 3개 출처만 표시)\n",
        "for idx, source in enumerate(sources[:3]):\n",
        "    print(f\"===== 출처 {idx + 1} =====\")\n",
        "    print(source)"
      ]
    },
    {
      "cell_type": "markdown",
      "metadata": {
        "id": "6ANyHV9S-Iqv"
      },
      "source": [
        "# [보너스] 엑셀, CSV 검색, Aggregation"
      ]
    },
    {
      "cell_type": "code",
      "execution_count": null,
      "metadata": {
        "colab": {
          "base_uri": "https://localhost:8080/",
          "height": 258
        },
        "id": "yNTynjZB-EX1",
        "outputId": "d2c6dfe4-7cca-4d14-ada3-a7d1da615254"
      },
      "outputs": [
        {
          "data": {
            "application/vnd.google.colaboratory.intrinsic+json": {
              "summary": "{\n  \"name\": \"df\",\n  \"rows\": 891,\n  \"fields\": [\n    {\n      \"column\": \"PassengerId\",\n      \"properties\": {\n        \"dtype\": \"number\",\n        \"std\": 257,\n        \"min\": 1,\n        \"max\": 891,\n        \"num_unique_values\": 891,\n        \"samples\": [\n          710,\n          440,\n          841\n        ],\n        \"semantic_type\": \"\",\n        \"description\": \"\"\n      }\n    },\n    {\n      \"column\": \"Survived\",\n      \"properties\": {\n        \"dtype\": \"number\",\n        \"std\": 0,\n        \"min\": 0,\n        \"max\": 1,\n        \"num_unique_values\": 2,\n        \"samples\": [\n          1,\n          0\n        ],\n        \"semantic_type\": \"\",\n        \"description\": \"\"\n      }\n    },\n    {\n      \"column\": \"Pclass\",\n      \"properties\": {\n        \"dtype\": \"number\",\n        \"std\": 0,\n        \"min\": 1,\n        \"max\": 3,\n        \"num_unique_values\": 3,\n        \"samples\": [\n          3,\n          1\n        ],\n        \"semantic_type\": \"\",\n        \"description\": \"\"\n      }\n    },\n    {\n      \"column\": \"Name\",\n      \"properties\": {\n        \"dtype\": \"string\",\n        \"num_unique_values\": 891,\n        \"samples\": [\n          \"Moubarek, Master. Halim Gonios (\\\"William George\\\")\",\n          \"Kvillner, Mr. Johan Henrik Johannesson\"\n        ],\n        \"semantic_type\": \"\",\n        \"description\": \"\"\n      }\n    },\n    {\n      \"column\": \"Sex\",\n      \"properties\": {\n        \"dtype\": \"category\",\n        \"num_unique_values\": 2,\n        \"samples\": [\n          \"female\",\n          \"male\"\n        ],\n        \"semantic_type\": \"\",\n        \"description\": \"\"\n      }\n    },\n    {\n      \"column\": \"Age\",\n      \"properties\": {\n        \"dtype\": \"number\",\n        \"std\": 14.526497332334042,\n        \"min\": 0.42,\n        \"max\": 80.0,\n        \"num_unique_values\": 88,\n        \"samples\": [\n          0.75,\n          22.0\n        ],\n        \"semantic_type\": \"\",\n        \"description\": \"\"\n      }\n    },\n    {\n      \"column\": \"SibSp\",\n      \"properties\": {\n        \"dtype\": \"number\",\n        \"std\": 1,\n        \"min\": 0,\n        \"max\": 8,\n        \"num_unique_values\": 7,\n        \"samples\": [\n          1,\n          0\n        ],\n        \"semantic_type\": \"\",\n        \"description\": \"\"\n      }\n    },\n    {\n      \"column\": \"Parch\",\n      \"properties\": {\n        \"dtype\": \"number\",\n        \"std\": 0,\n        \"min\": 0,\n        \"max\": 6,\n        \"num_unique_values\": 7,\n        \"samples\": [\n          0,\n          1\n        ],\n        \"semantic_type\": \"\",\n        \"description\": \"\"\n      }\n    },\n    {\n      \"column\": \"Ticket\",\n      \"properties\": {\n        \"dtype\": \"string\",\n        \"num_unique_values\": 681,\n        \"samples\": [\n          \"11774\",\n          \"248740\"\n        ],\n        \"semantic_type\": \"\",\n        \"description\": \"\"\n      }\n    },\n    {\n      \"column\": \"Fare\",\n      \"properties\": {\n        \"dtype\": \"number\",\n        \"std\": 49.6934285971809,\n        \"min\": 0.0,\n        \"max\": 512.3292,\n        \"num_unique_values\": 248,\n        \"samples\": [\n          11.2417,\n          51.8625\n        ],\n        \"semantic_type\": \"\",\n        \"description\": \"\"\n      }\n    },\n    {\n      \"column\": \"Cabin\",\n      \"properties\": {\n        \"dtype\": \"category\",\n        \"num_unique_values\": 147,\n        \"samples\": [\n          \"D45\",\n          \"B49\"\n        ],\n        \"semantic_type\": \"\",\n        \"description\": \"\"\n      }\n    },\n    {\n      \"column\": \"Embarked\",\n      \"properties\": {\n        \"dtype\": \"category\",\n        \"num_unique_values\": 3,\n        \"samples\": [\n          \"S\",\n          \"C\"\n        ],\n        \"semantic_type\": \"\",\n        \"description\": \"\"\n      }\n    }\n  ]\n}",
              "type": "dataframe",
              "variable_name": "df"
            },
            "text/html": [
              "\n",
              "  <div id=\"df-2d4eb97a-e95f-47a2-8057-0a02e2125856\" class=\"colab-df-container\">\n",
              "    <div>\n",
              "<style scoped>\n",
              "    .dataframe tbody tr th:only-of-type {\n",
              "        vertical-align: middle;\n",
              "    }\n",
              "\n",
              "    .dataframe tbody tr th {\n",
              "        vertical-align: top;\n",
              "    }\n",
              "\n",
              "    .dataframe thead th {\n",
              "        text-align: right;\n",
              "    }\n",
              "</style>\n",
              "<table border=\"1\" class=\"dataframe\">\n",
              "  <thead>\n",
              "    <tr style=\"text-align: right;\">\n",
              "      <th></th>\n",
              "      <th>PassengerId</th>\n",
              "      <th>Survived</th>\n",
              "      <th>Pclass</th>\n",
              "      <th>Name</th>\n",
              "      <th>Sex</th>\n",
              "      <th>Age</th>\n",
              "      <th>SibSp</th>\n",
              "      <th>Parch</th>\n",
              "      <th>Ticket</th>\n",
              "      <th>Fare</th>\n",
              "      <th>Cabin</th>\n",
              "      <th>Embarked</th>\n",
              "    </tr>\n",
              "  </thead>\n",
              "  <tbody>\n",
              "    <tr>\n",
              "      <th>0</th>\n",
              "      <td>1</td>\n",
              "      <td>0</td>\n",
              "      <td>3</td>\n",
              "      <td>Braund, Mr. Owen Harris</td>\n",
              "      <td>male</td>\n",
              "      <td>22.0</td>\n",
              "      <td>1</td>\n",
              "      <td>0</td>\n",
              "      <td>A/5 21171</td>\n",
              "      <td>7.2500</td>\n",
              "      <td>NaN</td>\n",
              "      <td>S</td>\n",
              "    </tr>\n",
              "    <tr>\n",
              "      <th>1</th>\n",
              "      <td>2</td>\n",
              "      <td>1</td>\n",
              "      <td>1</td>\n",
              "      <td>Cumings, Mrs. John Bradley (Florence Briggs Th...</td>\n",
              "      <td>female</td>\n",
              "      <td>38.0</td>\n",
              "      <td>1</td>\n",
              "      <td>0</td>\n",
              "      <td>PC 17599</td>\n",
              "      <td>71.2833</td>\n",
              "      <td>C85</td>\n",
              "      <td>C</td>\n",
              "    </tr>\n",
              "    <tr>\n",
              "      <th>2</th>\n",
              "      <td>3</td>\n",
              "      <td>1</td>\n",
              "      <td>3</td>\n",
              "      <td>Heikkinen, Miss. Laina</td>\n",
              "      <td>female</td>\n",
              "      <td>26.0</td>\n",
              "      <td>0</td>\n",
              "      <td>0</td>\n",
              "      <td>STON/O2. 3101282</td>\n",
              "      <td>7.9250</td>\n",
              "      <td>NaN</td>\n",
              "      <td>S</td>\n",
              "    </tr>\n",
              "    <tr>\n",
              "      <th>3</th>\n",
              "      <td>4</td>\n",
              "      <td>1</td>\n",
              "      <td>1</td>\n",
              "      <td>Futrelle, Mrs. Jacques Heath (Lily May Peel)</td>\n",
              "      <td>female</td>\n",
              "      <td>35.0</td>\n",
              "      <td>1</td>\n",
              "      <td>0</td>\n",
              "      <td>113803</td>\n",
              "      <td>53.1000</td>\n",
              "      <td>C123</td>\n",
              "      <td>S</td>\n",
              "    </tr>\n",
              "    <tr>\n",
              "      <th>4</th>\n",
              "      <td>5</td>\n",
              "      <td>0</td>\n",
              "      <td>3</td>\n",
              "      <td>Allen, Mr. William Henry</td>\n",
              "      <td>male</td>\n",
              "      <td>35.0</td>\n",
              "      <td>0</td>\n",
              "      <td>0</td>\n",
              "      <td>373450</td>\n",
              "      <td>8.0500</td>\n",
              "      <td>NaN</td>\n",
              "      <td>S</td>\n",
              "    </tr>\n",
              "  </tbody>\n",
              "</table>\n",
              "</div>\n",
              "    <div class=\"colab-df-buttons\">\n",
              "\n",
              "  <div class=\"colab-df-container\">\n",
              "    <button class=\"colab-df-convert\" onclick=\"convertToInteractive('df-2d4eb97a-e95f-47a2-8057-0a02e2125856')\"\n",
              "            title=\"Convert this dataframe to an interactive table.\"\n",
              "            style=\"display:none;\">\n",
              "\n",
              "  <svg xmlns=\"http://www.w3.org/2000/svg\" height=\"24px\" viewBox=\"0 -960 960 960\">\n",
              "    <path d=\"M120-120v-720h720v720H120Zm60-500h600v-160H180v160Zm220 220h160v-160H400v160Zm0 220h160v-160H400v160ZM180-400h160v-160H180v160Zm440 0h160v-160H620v160ZM180-180h160v-160H180v160Zm440 0h160v-160H620v160Z\"/>\n",
              "  </svg>\n",
              "    </button>\n",
              "\n",
              "  <style>\n",
              "    .colab-df-container {\n",
              "      display:flex;\n",
              "      gap: 12px;\n",
              "    }\n",
              "\n",
              "    .colab-df-convert {\n",
              "      background-color: #E8F0FE;\n",
              "      border: none;\n",
              "      border-radius: 50%;\n",
              "      cursor: pointer;\n",
              "      display: none;\n",
              "      fill: #1967D2;\n",
              "      height: 32px;\n",
              "      padding: 0 0 0 0;\n",
              "      width: 32px;\n",
              "    }\n",
              "\n",
              "    .colab-df-convert:hover {\n",
              "      background-color: #E2EBFA;\n",
              "      box-shadow: 0px 1px 2px rgba(60, 64, 67, 0.3), 0px 1px 3px 1px rgba(60, 64, 67, 0.15);\n",
              "      fill: #174EA6;\n",
              "    }\n",
              "\n",
              "    .colab-df-buttons div {\n",
              "      margin-bottom: 4px;\n",
              "    }\n",
              "\n",
              "    [theme=dark] .colab-df-convert {\n",
              "      background-color: #3B4455;\n",
              "      fill: #D2E3FC;\n",
              "    }\n",
              "\n",
              "    [theme=dark] .colab-df-convert:hover {\n",
              "      background-color: #434B5C;\n",
              "      box-shadow: 0px 1px 3px 1px rgba(0, 0, 0, 0.15);\n",
              "      filter: drop-shadow(0px 1px 2px rgba(0, 0, 0, 0.3));\n",
              "      fill: #FFFFFF;\n",
              "    }\n",
              "  </style>\n",
              "\n",
              "    <script>\n",
              "      const buttonEl =\n",
              "        document.querySelector('#df-2d4eb97a-e95f-47a2-8057-0a02e2125856 button.colab-df-convert');\n",
              "      buttonEl.style.display =\n",
              "        google.colab.kernel.accessAllowed ? 'block' : 'none';\n",
              "\n",
              "      async function convertToInteractive(key) {\n",
              "        const element = document.querySelector('#df-2d4eb97a-e95f-47a2-8057-0a02e2125856');\n",
              "        const dataTable =\n",
              "          await google.colab.kernel.invokeFunction('convertToInteractive',\n",
              "                                                    [key], {});\n",
              "        if (!dataTable) return;\n",
              "\n",
              "        const docLinkHtml = 'Like what you see? Visit the ' +\n",
              "          '<a target=\"_blank\" href=https://colab.research.google.com/notebooks/data_table.ipynb>data table notebook</a>'\n",
              "          + ' to learn more about interactive tables.';\n",
              "        element.innerHTML = '';\n",
              "        dataTable['output_type'] = 'display_data';\n",
              "        await google.colab.output.renderOutput(dataTable, element);\n",
              "        const docLink = document.createElement('div');\n",
              "        docLink.innerHTML = docLinkHtml;\n",
              "        element.appendChild(docLink);\n",
              "      }\n",
              "    </script>\n",
              "  </div>\n",
              "\n",
              "\n",
              "<div id=\"df-257088b3-2f54-43ad-957f-8ca13eba90db\">\n",
              "  <button class=\"colab-df-quickchart\" onclick=\"quickchart('df-257088b3-2f54-43ad-957f-8ca13eba90db')\"\n",
              "            title=\"Suggest charts\"\n",
              "            style=\"display:none;\">\n",
              "\n",
              "<svg xmlns=\"http://www.w3.org/2000/svg\" height=\"24px\"viewBox=\"0 0 24 24\"\n",
              "     width=\"24px\">\n",
              "    <g>\n",
              "        <path d=\"M19 3H5c-1.1 0-2 .9-2 2v14c0 1.1.9 2 2 2h14c1.1 0 2-.9 2-2V5c0-1.1-.9-2-2-2zM9 17H7v-7h2v7zm4 0h-2V7h2v10zm4 0h-2v-4h2v4z\"/>\n",
              "    </g>\n",
              "</svg>\n",
              "  </button>\n",
              "\n",
              "<style>\n",
              "  .colab-df-quickchart {\n",
              "      --bg-color: #E8F0FE;\n",
              "      --fill-color: #1967D2;\n",
              "      --hover-bg-color: #E2EBFA;\n",
              "      --hover-fill-color: #174EA6;\n",
              "      --disabled-fill-color: #AAA;\n",
              "      --disabled-bg-color: #DDD;\n",
              "  }\n",
              "\n",
              "  [theme=dark] .colab-df-quickchart {\n",
              "      --bg-color: #3B4455;\n",
              "      --fill-color: #D2E3FC;\n",
              "      --hover-bg-color: #434B5C;\n",
              "      --hover-fill-color: #FFFFFF;\n",
              "      --disabled-bg-color: #3B4455;\n",
              "      --disabled-fill-color: #666;\n",
              "  }\n",
              "\n",
              "  .colab-df-quickchart {\n",
              "    background-color: var(--bg-color);\n",
              "    border: none;\n",
              "    border-radius: 50%;\n",
              "    cursor: pointer;\n",
              "    display: none;\n",
              "    fill: var(--fill-color);\n",
              "    height: 32px;\n",
              "    padding: 0;\n",
              "    width: 32px;\n",
              "  }\n",
              "\n",
              "  .colab-df-quickchart:hover {\n",
              "    background-color: var(--hover-bg-color);\n",
              "    box-shadow: 0 1px 2px rgba(60, 64, 67, 0.3), 0 1px 3px 1px rgba(60, 64, 67, 0.15);\n",
              "    fill: var(--button-hover-fill-color);\n",
              "  }\n",
              "\n",
              "  .colab-df-quickchart-complete:disabled,\n",
              "  .colab-df-quickchart-complete:disabled:hover {\n",
              "    background-color: var(--disabled-bg-color);\n",
              "    fill: var(--disabled-fill-color);\n",
              "    box-shadow: none;\n",
              "  }\n",
              "\n",
              "  .colab-df-spinner {\n",
              "    border: 2px solid var(--fill-color);\n",
              "    border-color: transparent;\n",
              "    border-bottom-color: var(--fill-color);\n",
              "    animation:\n",
              "      spin 1s steps(1) infinite;\n",
              "  }\n",
              "\n",
              "  @keyframes spin {\n",
              "    0% {\n",
              "      border-color: transparent;\n",
              "      border-bottom-color: var(--fill-color);\n",
              "      border-left-color: var(--fill-color);\n",
              "    }\n",
              "    20% {\n",
              "      border-color: transparent;\n",
              "      border-left-color: var(--fill-color);\n",
              "      border-top-color: var(--fill-color);\n",
              "    }\n",
              "    30% {\n",
              "      border-color: transparent;\n",
              "      border-left-color: var(--fill-color);\n",
              "      border-top-color: var(--fill-color);\n",
              "      border-right-color: var(--fill-color);\n",
              "    }\n",
              "    40% {\n",
              "      border-color: transparent;\n",
              "      border-right-color: var(--fill-color);\n",
              "      border-top-color: var(--fill-color);\n",
              "    }\n",
              "    60% {\n",
              "      border-color: transparent;\n",
              "      border-right-color: var(--fill-color);\n",
              "    }\n",
              "    80% {\n",
              "      border-color: transparent;\n",
              "      border-right-color: var(--fill-color);\n",
              "      border-bottom-color: var(--fill-color);\n",
              "    }\n",
              "    90% {\n",
              "      border-color: transparent;\n",
              "      border-bottom-color: var(--fill-color);\n",
              "    }\n",
              "  }\n",
              "</style>\n",
              "\n",
              "  <script>\n",
              "    async function quickchart(key) {\n",
              "      const quickchartButtonEl =\n",
              "        document.querySelector('#' + key + ' button');\n",
              "      quickchartButtonEl.disabled = true;  // To prevent multiple clicks.\n",
              "      quickchartButtonEl.classList.add('colab-df-spinner');\n",
              "      try {\n",
              "        const charts = await google.colab.kernel.invokeFunction(\n",
              "            'suggestCharts', [key], {});\n",
              "      } catch (error) {\n",
              "        console.error('Error during call to suggestCharts:', error);\n",
              "      }\n",
              "      quickchartButtonEl.classList.remove('colab-df-spinner');\n",
              "      quickchartButtonEl.classList.add('colab-df-quickchart-complete');\n",
              "    }\n",
              "    (() => {\n",
              "      let quickchartButtonEl =\n",
              "        document.querySelector('#df-257088b3-2f54-43ad-957f-8ca13eba90db button');\n",
              "      quickchartButtonEl.style.display =\n",
              "        google.colab.kernel.accessAllowed ? 'block' : 'none';\n",
              "    })();\n",
              "  </script>\n",
              "</div>\n",
              "\n",
              "    </div>\n",
              "  </div>\n"
            ],
            "text/plain": [
              "   PassengerId  Survived  Pclass  \\\n",
              "0            1         0       3   \n",
              "1            2         1       1   \n",
              "2            3         1       3   \n",
              "3            4         1       1   \n",
              "4            5         0       3   \n",
              "\n",
              "                                                Name     Sex   Age  SibSp  \\\n",
              "0                            Braund, Mr. Owen Harris    male  22.0      1   \n",
              "1  Cumings, Mrs. John Bradley (Florence Briggs Th...  female  38.0      1   \n",
              "2                             Heikkinen, Miss. Laina  female  26.0      0   \n",
              "3       Futrelle, Mrs. Jacques Heath (Lily May Peel)  female  35.0      1   \n",
              "4                           Allen, Mr. William Henry    male  35.0      0   \n",
              "\n",
              "   Parch            Ticket     Fare Cabin Embarked  \n",
              "0      0         A/5 21171   7.2500   NaN        S  \n",
              "1      0          PC 17599  71.2833   C85        C  \n",
              "2      0  STON/O2. 3101282   7.9250   NaN        S  \n",
              "3      0            113803  53.1000  C123        S  \n",
              "4      0            373450   8.0500   NaN        S  "
            ]
          },
          "execution_count": 15,
          "metadata": {},
          "output_type": "execute_result"
        }
      ],
      "source": [
        "import pandas as pd\n",
        "\n",
        "df = pd.read_csv(\"https://github.com/kairess/toy-datasets/raw/master/titanic.csv\")\n",
        "\n",
        "df.head()"
      ]
    },
    {
      "cell_type": "code",
      "execution_count": null,
      "metadata": {
        "colab": {
          "base_uri": "https://localhost:8080/"
        },
        "id": "biaCDrvFixPo",
        "outputId": "c7eca044-6b15-40b1-ccce-021c2b03f8dd"
      },
      "outputs": [
        {
          "name": "stdout",
          "output_type": "stream",
          "text": [
            "\u001b[?25l   \u001b[90m━━━━━━━━━━━━━━━━━━━━━━━━━━━━━━━━━━━━━━━━\u001b[0m \u001b[32m0.0/204.3 kB\u001b[0m \u001b[31m?\u001b[0m eta \u001b[36m-:--:--\u001b[0m\r\u001b[2K   \u001b[91m━━━━━━━━━━━━━━━━━━━━━━━━━━━━━━━━━━━━━━\u001b[0m\u001b[90m╺\u001b[0m\u001b[90m━\u001b[0m \u001b[32m194.6/204.3 kB\u001b[0m \u001b[31m6.5 MB/s\u001b[0m eta \u001b[36m0:00:01\u001b[0m\r\u001b[2K   \u001b[90m━━━━━━━━━━━━━━━━━━━━━━━━━━━━━━━━━━━━━━━━\u001b[0m \u001b[32m204.3/204.3 kB\u001b[0m \u001b[31m3.6 MB/s\u001b[0m eta \u001b[36m0:00:00\u001b[0m\n",
            "\u001b[?25h"
          ]
        }
      ],
      "source": [
        "!pip install -q langchain-experimental"
      ]
    },
    {
      "cell_type": "code",
      "execution_count": null,
      "metadata": {
        "colab": {
          "base_uri": "https://localhost:8080/",
          "height": 256
        },
        "id": "VvK5-0GA-Hgp",
        "outputId": "5096c328-8f83-442e-9d80-f26aaa8321ef"
      },
      "outputs": [
        {
          "name": "stderr",
          "output_type": "stream",
          "text": [
            "<ipython-input-17-712acbc15fff>:4: LangChainDeprecationWarning: The class `OpenAI` was deprecated in LangChain 0.0.10 and will be removed in 1.0. An updated version of the class exists in the langchain-openai package and should be used instead. To use it run `pip install -U langchain-openai` and import as `from langchain_openai import OpenAI`.\n",
            "  llm_2 = OpenAI(temperature=0)\n"
          ]
        },
        {
          "name": "stdout",
          "output_type": "stream",
          "text": [
            "\n",
            "\n",
            "\u001b[1m> Entering new AgentExecutor chain...\u001b[0m\n",
            "\u001b[32;1m\u001b[1;3mThought: I need to count the number of rows in the dataframe\n",
            "Action: python_repl_ast\n",
            "Action Input: len(df)\u001b[0m\u001b[36;1m\u001b[1;3m891\u001b[0m\u001b[32;1m\u001b[1;3m891 is the number of rows in the dataframe\n",
            "Final Answer: 891\u001b[0m\n",
            "\n",
            "\u001b[1m> Finished chain.\u001b[0m\n"
          ]
        },
        {
          "data": {
            "application/vnd.google.colaboratory.intrinsic+json": {
              "type": "string"
            },
            "text/plain": [
              "'891'"
            ]
          },
          "execution_count": 17,
          "metadata": {},
          "output_type": "execute_result"
        }
      ],
      "source": [
        "from langchain_experimental.agents import create_pandas_dataframe_agent\n",
        "from langchain.llms import OpenAI\n",
        "\n",
        "llm_2 = OpenAI(temperature=0)\n",
        "\n",
        "agent = create_pandas_dataframe_agent(llm_2, df, verbose=True, allow_dangerous_code=True)\n",
        "\n",
        "agent.run(\"how many rows are there?\")"
      ]
    },
    {
      "cell_type": "code",
      "execution_count": null,
      "metadata": {
        "colab": {
          "base_uri": "https://localhost:8080/",
          "height": 200
        },
        "id": "hJn2siQo-uW6",
        "outputId": "8b53c0c5-4afa-4f17-db19-55c72047c1b2"
      },
      "outputs": [
        {
          "name": "stdout",
          "output_type": "stream",
          "text": [
            "\n",
            "\n",
            "\u001b[1m> Entering new AgentExecutor chain...\u001b[0m\n",
            "\u001b[32;1m\u001b[1;3mThought: I need to count the number of rows in the dataframe\n",
            "Action: python_repl_ast\n",
            "Action Input: len(df)\u001b[0m\u001b[36;1m\u001b[1;3m891\u001b[0m\u001b[32;1m\u001b[1;3m891 rows\n",
            "Final Answer: 891 rows\u001b[0m\n",
            "\n",
            "\u001b[1m> Finished chain.\u001b[0m\n"
          ]
        },
        {
          "data": {
            "application/vnd.google.colaboratory.intrinsic+json": {
              "type": "string"
            },
            "text/plain": [
              "'891 rows'"
            ]
          },
          "execution_count": 18,
          "metadata": {},
          "output_type": "execute_result"
        }
      ],
      "source": [
        "agent.run(\"행이 몇 개지?\")"
      ]
    },
    {
      "cell_type": "code",
      "execution_count": null,
      "metadata": {
        "colab": {
          "base_uri": "https://localhost:8080/",
          "height": 200
        },
        "id": "tXlJBFt7-zIl",
        "outputId": "73ede5f1-d44d-4fe1-ab1c-835a7052f05e"
      },
      "outputs": [
        {
          "name": "stdout",
          "output_type": "stream",
          "text": [
            "\n",
            "\n",
            "\u001b[1m> Entering new AgentExecutor chain...\u001b[0m\n",
            "\u001b[32;1m\u001b[1;3mThought: I need to find the average age of the passengers.\n",
            "Action: python_repl_ast\n",
            "Action Input: df['Age'].mean()\u001b[0m\u001b[36;1m\u001b[1;3m29.69911764705882\u001b[0m\u001b[32;1m\u001b[1;3m29.69911764705882 is the average age of the passengers.\n",
            "Final Answer: The average age of the passengers is 29.69911764705882.\u001b[0m\n",
            "\n",
            "\u001b[1m> Finished chain.\u001b[0m\n"
          ]
        },
        {
          "data": {
            "application/vnd.google.colaboratory.intrinsic+json": {
              "type": "string"
            },
            "text/plain": [
              "'The average age of the passengers is 29.69911764705882.'"
            ]
          },
          "execution_count": 19,
          "metadata": {},
          "output_type": "execute_result"
        }
      ],
      "source": [
        "agent.run(\"승객들의 평균 연령은?\")"
      ]
    },
    {
      "cell_type": "code",
      "execution_count": null,
      "metadata": {
        "colab": {
          "base_uri": "https://localhost:8080/",
          "height": 346
        },
        "id": "jRkPXiBY_AB0",
        "outputId": "bb359692-86dd-4758-996f-9e21ad45d192"
      },
      "outputs": [
        {
          "name": "stdout",
          "output_type": "stream",
          "text": [
            "\n",
            "\n",
            "\u001b[1m> Entering new AgentExecutor chain...\u001b[0m\n",
            "\u001b[32;1m\u001b[1;3mThought: I need to find the total number of males and females, and then calculate the ratio between them.\n",
            "Action: python_repl_ast\n",
            "Action Input: df['Sex'].value_counts()\u001b[0m\u001b[36;1m\u001b[1;3mSex\n",
            "male      577\n",
            "female    314\n",
            "Name: count, dtype: int64\u001b[0m\u001b[32;1m\u001b[1;3m577 males and 314 females, now I need to calculate the ratio.\n",
            "Action: python_repl_ast\n",
            "Action Input: df['Sex'].value_counts(normalize=True)\u001b[0m\u001b[36;1m\u001b[1;3mSex\n",
            "male      0.647587\n",
            "female    0.352413\n",
            "Name: proportion, dtype: float64\u001b[0m\u001b[32;1m\u001b[1;3m0.647587 is the proportion of males and 0.352413 is the proportion of females.\n",
            "Final Answer: The ratio of males to females is approximately 1.84:1.\u001b[0m\n",
            "\n",
            "\u001b[1m> Finished chain.\u001b[0m\n"
          ]
        },
        {
          "data": {
            "application/vnd.google.colaboratory.intrinsic+json": {
              "type": "string"
            },
            "text/plain": [
              "'The ratio of males to females is approximately 1.84:1.'"
            ]
          },
          "execution_count": 20,
          "metadata": {},
          "output_type": "execute_result"
        }
      ],
      "source": [
        "agent.run(\"남성과 여성의 비율은?\")"
      ]
    },
    {
      "cell_type": "code",
      "execution_count": null,
      "metadata": {
        "colab": {
          "base_uri": "https://localhost:8080/",
          "height": 510
        },
        "id": "fVj1Ubfe_OAU",
        "outputId": "89fffa00-ed4e-4cd9-fe58-cdeb2d9cd9f6"
      },
      "outputs": [
        {
          "name": "stdout",
          "output_type": "stream",
          "text": [
            "\n",
            "\n",
            "\u001b[1m> Entering new AgentExecutor chain...\u001b[0m\n",
            "\u001b[32;1m\u001b[1;3mThought: I need to group the dataframe by Pclass and Sex, then sum the Survived column\n",
            "Action: python_repl_ast\n",
            "Action Input: df.groupby(['Pclass', 'Sex'])['Survived'].sum()\u001b[0m\u001b[36;1m\u001b[1;3mPclass  Sex   \n",
            "1       female    91\n",
            "        male      45\n",
            "2       female    70\n",
            "        male      17\n",
            "3       female    72\n",
            "        male      47\n",
            "Name: Survived, dtype: int64\u001b[0m\u001b[32;1m\u001b[1;3mI now know the final answer\n",
            "Final Answer: 객실 등급과 성별에 따른 생존자 수는 다음과 같습니다:\n",
            "|   | Pclass | Sex    |   Survived |\n",
            "|---:|-------:|:-------|-----------:|\n",
            "|  0 |      1 | female |         91 |\n",
            "|  1 |      1 | male   |         45 |\n",
            "|  2 |      2 | female |         70 |\n",
            "|  3 |      2 | male   |         17 |\n",
            "|  4 |      3 | female |         72 |\n",
            "|  5 |      3 | male   |         47 |\u001b[0m\n",
            "\n",
            "\u001b[1m> Finished chain.\u001b[0m\n"
          ]
        },
        {
          "data": {
            "application/vnd.google.colaboratory.intrinsic+json": {
              "type": "string"
            },
            "text/plain": [
              "'객실 등급과 성별에 따른 생존자 수는 다음과 같습니다:\\n|   | Pclass | Sex    |   Survived |\\n|---:|-------:|:-------|-----------:|\\n|  0 |      1 | female |         91 |\\n|  1 |      1 | male   |         45 |\\n|  2 |      2 | female |         70 |\\n|  3 |      2 | male   |         17 |\\n|  4 |      3 | female |         72 |\\n|  5 |      3 | male   |         47 |'"
            ]
          },
          "execution_count": 21,
          "metadata": {},
          "output_type": "execute_result"
        }
      ],
      "source": [
        "agent.run(\"객실 등급과 성별에 따른 생존자 수를 계산해줘\")"
      ]
    },
    {
      "cell_type": "code",
      "execution_count": null,
      "metadata": {
        "id": "bn_r7VTVADZo"
      },
      "outputs": [],
      "source": []
    }
  ],
  "metadata": {
    "colab": {
      "provenance": []
    },
    "kernelspec": {
      "display_name": "nlp_env",
      "language": "python",
      "name": "python3"
    },
    "language_info": {
      "codemirror_mode": {
        "name": "ipython",
        "version": 3
      },
      "file_extension": ".py",
      "mimetype": "text/x-python",
      "name": "python",
      "nbconvert_exporter": "python",
      "pygments_lexer": "ipython3",
      "version": "3.10.16"
    }
  },
  "nbformat": 4,
  "nbformat_minor": 0
}
