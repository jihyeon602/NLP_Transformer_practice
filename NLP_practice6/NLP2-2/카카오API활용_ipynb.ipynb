{
  "cells": [
    {
      "cell_type": "code",
      "execution_count": 1,
      "metadata": {
        "id": "XKWD-9R7GfC6"
      },
      "outputs": [],
      "source": [
        "import requests\n",
        "from tqdm import tqdm\n",
        "import time"
      ]
    },
    {
      "cell_type": "markdown",
      "metadata": {
        "id": "eO4r5dvRGuCv"
      },
      "source": [
        "카카오 API\n",
        "키워드로 장소 검색: https://developers.kakao.com/docs/latest/ko/local/dev-guide#search-by-keyword\n",
        "\n",
        "카카오 개발자 API 키 발급: https://developers.kakao.com/\n",
        "App 생성 REST API 키 복사, 붙여넣기"
      ]
    },
    {
      "cell_type": "code",
      "execution_count": null,
      "metadata": {
        "colab": {
          "base_uri": "https://localhost:8080/"
        },
        "id": "XWwTg_7NGkiu",
        "outputId": "60a84994-2cf9-44a5-bfb8-a7000ae4c65f"
      },
      "outputs": [
        {
          "name": "stdout",
          "output_type": "stream",
          "text": [
            "✅ 저장 완료: db.json\n"
          ]
        }
      ],
      "source": [
        "import requests\n",
        "import json\n",
        "\n",
        "app_key = '{your_key}'\n",
        "\n",
        "url = 'https://dapi.kakao.com/v2/local/search/keyword.json'\n",
        "params = {\n",
        "    'query': '약국',\n",
        "    'category_group_code': 'PM9',\n",
        "    'page': 45\n",
        "}\n",
        "headers = {\n",
        "    'Authorization': app_key\n",
        "}\n",
        "\n",
        "# 응답 객체 먼저 저장\n",
        "res = requests.get(url=url, params=params, headers=headers)\n",
        "\n",
        "# 여기서만 status_code 확인해야 함\n",
        "if res.status_code == 200:\n",
        "    tokens = res.json()  # 여기서부터 dict 됨\n",
        "\n",
        "    with open('db.json', 'w', encoding='utf-8') as f:\n",
        "        json.dump(tokens, f, ensure_ascii=False, indent=2)\n",
        "\n",
        "    print(\"✅ 저장 완료: db.json\")\n",
        "else:\n",
        "    print(f\"❌ 요청 실패: {res.status_code}\")\n",
        "    print(res.text)\n"
      ]
    },
    {
      "cell_type": "code",
      "execution_count": 53,
      "metadata": {
        "id": "IRmfoLphG_Mg"
      },
      "outputs": [
        {
          "data": {
            "text/plain": [
              "[{'address_name': '서울 강북구 수유동 95-7',\n",
              "  'category_group_code': 'PM9',\n",
              "  'category_group_name': '약국',\n",
              "  'category_name': '의료,건강 > 약국',\n",
              "  'distance': '',\n",
              "  'id': '9871683',\n",
              "  'phone': '02-988-2552',\n",
              "  'place_name': '세화온누리약국',\n",
              "  'place_url': 'http://place.map.kakao.com/9871683',\n",
              "  'road_address_name': '서울 강북구 도봉로77길 6',\n",
              "  'x': '127.022975621251',\n",
              "  'y': '37.6337585009902'},\n",
              " {'address_name': '서울 종로구 종로4가 185',\n",
              "  'category_group_code': 'PM9',\n",
              "  'category_group_name': '약국',\n",
              "  'category_name': '의료,건강 > 약국',\n",
              "  'distance': '',\n",
              "  'id': '9885727',\n",
              "  'phone': '02-2264-8210',\n",
              "  'place_name': '열린약국',\n",
              "  'place_url': 'http://place.map.kakao.com/9885727',\n",
              "  'road_address_name': '서울 종로구 종로 204',\n",
              "  'x': '127.000285254981',\n",
              "  'y': '37.5706914035499'},\n",
              " {'address_name': '인천 남동구 만수동 898-7',\n",
              "  'category_group_code': 'PM9',\n",
              "  'category_group_name': '약국',\n",
              "  'category_name': '의료,건강 > 약국',\n",
              "  'distance': '',\n",
              "  'id': '13526595',\n",
              "  'phone': '032-471-8248',\n",
              "  'place_name': '고은약국',\n",
              "  'place_url': 'http://place.map.kakao.com/13526595',\n",
              "  'road_address_name': '인천 남동구 구월말로 117',\n",
              "  'x': '126.72542033183186',\n",
              "  'y': '37.45968860533868'},\n",
              " {'address_name': '부산 해운대구 반여동 1609-1',\n",
              "  'category_group_code': 'PM9',\n",
              "  'category_group_name': '약국',\n",
              "  'category_name': '의료,건강 > 약국',\n",
              "  'distance': '',\n",
              "  'id': '16436110',\n",
              "  'phone': '051-784-1933',\n",
              "  'place_name': '지리산약국',\n",
              "  'place_url': 'http://place.map.kakao.com/16436110',\n",
              "  'road_address_name': '부산 해운대구 재반로 253-1',\n",
              "  'x': '129.1312834588989',\n",
              "  'y': '35.19996666019477'},\n",
              " {'address_name': '서울 강서구 등촌동 699-1',\n",
              "  'category_group_code': 'PM9',\n",
              "  'category_group_name': '약국',\n",
              "  'category_name': '의료,건강 > 약국',\n",
              "  'distance': '',\n",
              "  'id': '346534713',\n",
              "  'phone': '02-3661-3650',\n",
              "  'place_name': '365열린약국',\n",
              "  'place_url': 'http://place.map.kakao.com/346534713',\n",
              "  'road_address_name': '서울 강서구 공항대로41길 52',\n",
              "  'x': '126.84615398399313',\n",
              "  'y': '37.56007654572965'},\n",
              " {'address_name': '제주특별자치도 제주시 삼도이동 1261-13',\n",
              "  'category_group_code': 'PM9',\n",
              "  'category_group_name': '약국',\n",
              "  'category_name': '의료,건강 > 약국',\n",
              "  'distance': '',\n",
              "  'id': '9545100',\n",
              "  'phone': '064-726-4949',\n",
              "  'place_name': '탑동보룡약국',\n",
              "  'place_url': 'http://place.map.kakao.com/9545100',\n",
              "  'road_address_name': '제주특별자치도 제주시 탑동로 24',\n",
              "  'x': '126.522506111034',\n",
              "  'y': '33.5175365752589'},\n",
              " {'address_name': '광주 북구 풍향동 580-20',\n",
              "  'category_group_code': 'PM9',\n",
              "  'category_group_name': '약국',\n",
              "  'category_name': '의료,건강 > 약국',\n",
              "  'distance': '',\n",
              "  'id': '8739031',\n",
              "  'phone': '062-263-0994',\n",
              "  'place_name': '백림약국',\n",
              "  'place_url': 'http://place.map.kakao.com/8739031',\n",
              "  'road_address_name': '광주 북구 필문대로 85',\n",
              "  'x': '126.92871047166972',\n",
              "  'y': '35.16248832888399'},\n",
              " {'address_name': '경기 용인시 처인구 김량장동 132-9',\n",
              "  'category_group_code': 'PM9',\n",
              "  'category_group_name': '약국',\n",
              "  'category_name': '의료,건강 > 약국',\n",
              "  'distance': '',\n",
              "  'id': '12292729',\n",
              "  'phone': '031-335-7477',\n",
              "  'place_name': '시장약국',\n",
              "  'place_url': 'http://place.map.kakao.com/12292729',\n",
              "  'road_address_name': '경기 용인시 처인구 금령로 93',\n",
              "  'x': '127.20664490373692',\n",
              "  'y': '37.23564939870789'},\n",
              " {'address_name': '서울 금천구 시흥동 884',\n",
              "  'category_group_code': 'PM9',\n",
              "  'category_group_name': '약국',\n",
              "  'category_name': '의료,건강 > 약국',\n",
              "  'distance': '',\n",
              "  'id': '982017858',\n",
              "  'phone': '070-8888-8801',\n",
              "  'place_name': '금천종로약국',\n",
              "  'place_url': 'http://place.map.kakao.com/982017858',\n",
              "  'road_address_name': '서울 금천구 금하로 634',\n",
              "  'x': '126.901629675984',\n",
              "  'y': '37.4546380662309'},\n",
              " {'address_name': '부산 부산진구 양정동 501-4',\n",
              "  'category_group_code': 'PM9',\n",
              "  'category_group_name': '약국',\n",
              "  'category_name': '의료,건강 > 약국',\n",
              "  'distance': '',\n",
              "  'id': '427189237',\n",
              "  'phone': '010-5929-5067',\n",
              "  'place_name': '고은약국',\n",
              "  'place_url': 'http://place.map.kakao.com/427189237',\n",
              "  'road_address_name': '부산 부산진구 동평로 373',\n",
              "  'x': '129.065952617929',\n",
              "  'y': '35.1750235067947'},\n",
              " {'address_name': '부산 부산진구 범천동 849-1',\n",
              "  'category_group_code': 'PM9',\n",
              "  'category_group_name': '약국',\n",
              "  'category_name': '의료,건강 > 약국',\n",
              "  'distance': '',\n",
              "  'id': '22460888',\n",
              "  'phone': '051-636-3835',\n",
              "  'place_name': '행복약국',\n",
              "  'place_url': 'http://place.map.kakao.com/22460888',\n",
              "  'road_address_name': '부산 부산진구 범일로 190',\n",
              "  'x': '129.05995984332813',\n",
              "  'y': '35.14695259342621'},\n",
              " {'address_name': '서울 성동구 송정동 66-196',\n",
              "  'category_group_code': 'PM9',\n",
              "  'category_group_name': '약국',\n",
              "  'category_name': '의료,건강 > 약국',\n",
              "  'distance': '',\n",
              "  'id': '13513393',\n",
              "  'phone': '02-467-2485',\n",
              "  'place_name': '왕약국',\n",
              "  'place_url': 'http://place.map.kakao.com/13513393',\n",
              "  'road_address_name': '서울 성동구 광나루로 323',\n",
              "  'x': '127.06557553970877',\n",
              "  'y': '37.548423073985695'},\n",
              " {'address_name': '부산 중구 창선동2가 35-1',\n",
              "  'category_group_code': 'PM9',\n",
              "  'category_group_name': '약국',\n",
              "  'category_name': '의료,건강 > 약국',\n",
              "  'distance': '',\n",
              "  'id': '601842280',\n",
              "  'phone': '051-242-4484',\n",
              "  'place_name': '국제약국',\n",
              "  'place_url': 'http://place.map.kakao.com/601842280',\n",
              "  'road_address_name': '부산 중구 중구로 22',\n",
              "  'x': '129.0281068387602',\n",
              "  'y': '35.099481967848334'},\n",
              " {'address_name': '서울 송파구 풍납동 395-2',\n",
              "  'category_group_code': 'PM9',\n",
              "  'category_group_name': '약국',\n",
              "  'category_name': '의료,건강 > 약국',\n",
              "  'distance': '',\n",
              "  'id': '10320322',\n",
              "  'phone': '02-473-0111',\n",
              "  'place_name': '대학약국 강남점',\n",
              "  'place_url': 'http://place.map.kakao.com/10320322',\n",
              "  'road_address_name': '서울 송파구 강동대로 57',\n",
              "  'x': '127.113900176908',\n",
              "  'y': '37.5273561104993'},\n",
              " {'address_name': '부산 동래구 온천동 210-1',\n",
              "  'category_group_code': 'PM9',\n",
              "  'category_group_name': '약국',\n",
              "  'category_name': '의료,건강 > 약국',\n",
              "  'distance': '',\n",
              "  'id': '16923851',\n",
              "  'phone': '051-556-7890',\n",
              "  'place_name': '대도약국',\n",
              "  'place_url': 'http://place.map.kakao.com/16923851',\n",
              "  'road_address_name': '부산 동래구 금강공원로 28',\n",
              "  'x': '129.081474186618',\n",
              "  'y': '35.2191700897487'}]"
            ]
          },
          "execution_count": 53,
          "metadata": {},
          "output_type": "execute_result"
        }
      ],
      "source": [
        "tokens['documents']"
      ]
    },
    {
      "cell_type": "code",
      "execution_count": 54,
      "metadata": {
        "id": "eC18EBfsHAZQ"
      },
      "outputs": [
        {
          "data": {
            "text/plain": [
              "{'is_end': True,\n",
              " 'pageable_count': 45,\n",
              " 'same_name': {'keyword': '약국', 'region': [], 'selected_region': ''},\n",
              " 'total_count': 20189}"
            ]
          },
          "execution_count": 54,
          "metadata": {},
          "output_type": "execute_result"
        }
      ],
      "source": [
        "tokens['meta']"
      ]
    },
    {
      "cell_type": "code",
      "execution_count": 44,
      "metadata": {
        "colab": {
          "base_uri": "https://localhost:8080/"
        },
        "id": "YMS1aavhHCZQ",
        "outputId": "48e90c8d-5335-4bab-e395-d6f17b19a6b3"
      },
      "outputs": [
        {
          "name": "stdout",
          "output_type": "stream",
          "text": [
            "{'errorType': 'ValidationError', 'message': 'Request validation is failed', 'details': [{'field': 'query.page', 'error': 'should be at most 45'}]}\n"
          ]
        }
      ],
      "source": [
        "# 한계 45페이지까지 값 밖에 받아올 수 없음\n",
        "params = {\n",
        "    'query': '치킨',\n",
        "    'page': 46\n",
        "}\n",
        "\n",
        "res = requests.get(url, params=params, headers=headers).json()\n",
        "\n",
        "print(res)"
      ]
    },
    {
      "cell_type": "code",
      "execution_count": 55,
      "metadata": {
        "colab": {
          "base_uri": "https://localhost:8080/"
        },
        "id": "59MdZ2xOHGr8",
        "outputId": "04796480-198b-42af-aa7c-eaf30bc54c60"
      },
      "outputs": [],
      "source": [
        "# TinyDB\n",
        "#!pip install tinydb\n",
        "from tinydb import TinyDB, Query\n",
        "\n",
        "db = TinyDB('db.json')"
      ]
    },
    {
      "cell_type": "markdown",
      "metadata": {
        "id": "NxAq3mVzHLWd"
      },
      "source": [
        "분할 검색\n",
        "우리나라 지도를 위경도 0.25 단위의 작은 사각형으로 쪼개어 검색\n",
        "\n",
        "상세페이지에서 가격 긁어오기 https://place.map.kakao.com/main/v/9847579\n",
        "\n",
        "IP 차단 피하기 위해 5초 대기\n",
        "\n",
        "DB 저장\n",
        "place_name: 음식점 이름\n",
        "menu: 메뉴 이름\n",
        "price: 가격"
      ]
    },
    {
      "cell_type": "code",
      "execution_count": null,
      "metadata": {
        "colab": {
          "base_uri": "https://localhost:8080/",
          "height": 772
        },
        "id": "BfoMmVeGHKKv",
        "outputId": "a41a7440-d7d2-4640-8f26-ba9339026838"
      },
      "outputs": [],
      "source": [
        "# 실행 x\n",
        "start_x = 126 # 126.0 - 130.0\n",
        "start_y = 33 # 33.0 - 39.0\n",
        "\n",
        "dx = 0.25\n",
        "dy = 0.25\n",
        "\n",
        "for i in tqdm(range(18)):\n",
        "    for j in range(26):\n",
        "        x = start_x + dx * i\n",
        "        y = start_y + dy * j\n",
        "        print(x, y)\n",
        "\n",
        "        for page in range(1, 46):\n",
        "            params = {\n",
        "                'query': '약국',\n",
        "                'page': page,\n",
        "                'rect': f'{x},{y},{x + dx},{y + dy}'\n",
        "            }\n",
        "\n",
        "            res = requests.get(url, params=params, headers=headers).json()\n",
        "\n",
        "            if len(res['documents']) == 0:\n",
        "                break\n",
        "\n",
        "            for doc in res['documents']:\n",
        "                place_name = doc['place_name']\n",
        "\n",
        "                detail_url = f'https://place.map.kakao.com/main/v/{doc[\"id\"]}'\n",
        "\n",
        "                data = requests.get(detail_url, headers=headers).json()\n",
        "\n",
        "                if 'menuInfo' not in data:\n",
        "                    continue\n",
        "\n",
        "                menu_list = data['menuInfo']['menuList']\n",
        "\n",
        "                for menu_item in menu_list:\n",
        "                    price = 0\n",
        "                    if 'price' in menu_item:\n",
        "                        price = int(menu_item['price'].replace(',', ''))\n",
        "\n",
        "                    db.insert({\n",
        "                        'place_name': place_name,\n",
        "                        'menu': menu_item['menu'],\n",
        "                        'price': price\n",
        "                    })\n",
        "\n",
        "                time.sleep(5)\n",
        "\n",
        "            if res['meta']['is_end']:\n",
        "                break"
      ]
    },
    {
      "cell_type": "code",
      "execution_count": null,
      "metadata": {
        "colab": {
          "base_uri": "https://localhost:8080/"
        },
        "id": "Of2HncV0Hg6x",
        "outputId": "711efa90-f34e-480f-b4cf-d6abb8cfb420"
      },
      "outputs": [
        {
          "data": {
            "text/plain": [
              "<TinyDB tables=['_default'], tables_count=1, default_table_documents_count=56202, all_tables_documents_count=['_default=56202']>"
            ]
          },
          "execution_count": 13,
          "metadata": {},
          "output_type": "execute_result"
        }
      ],
      "source": [
        "db"
      ]
    },
    {
      "cell_type": "code",
      "execution_count": null,
      "metadata": {
        "colab": {
          "base_uri": "https://localhost:8080/"
        },
        "id": "HjqbB_ScHjrf",
        "outputId": "81c47dbc-b040-4519-ce47-094dcc904143"
      },
      "outputs": [
        {
          "data": {
            "text/plain": [
              "[{'place_name': '돌담너머바다 판포점', 'menu': '돔베 스테이크', 'price': 39000},\n",
              " {'place_name': '마담나탈리소셜클럽', 'menu': '글렌피딕 15Y', 'price': 250000},\n",
              " {'place_name': '인판포', 'menu': '바베큐 플레이터', 'price': 60000},\n",
              " {'place_name': '인판포', 'menu': '마라소라새우', 'price': 40000},\n",
              " {'place_name': '제마닭', 'menu': '닭도리탕(대)', 'price': 36000},\n",
              " {'place_name': '제마닭', 'menu': '꽃도리탕(중)', 'price': 38000},\n",
              " {'place_name': '제마닭', 'menu': '꽃도리탕(대)', 'price': 48000},\n",
              " {'place_name': '먹고정', 'menu': '백돼지한근반', 'price': 63000},\n",
              " {'place_name': '먹고정', 'menu': '백돼지한근', 'price': 42000},\n",
              " {'place_name': '먹고정', 'menu': '흑돼지한근반', 'price': 80000},\n",
              " {'place_name': '먹고정', 'menu': '흑돼지한근', 'price': 54000},\n",
              " {'place_name': '모루쿠다', 'menu': '모루쿠다 육합', 'price': 40000},\n",
              " {'place_name': '원조장수통닭', 'menu': '토종닭', 'price': 60000},\n",
              " {'place_name': '원조장수통닭', 'menu': '오리주물럭', 'price': 60000},\n",
              " {'place_name': '진솔통닭', 'menu': '토종닭(1마리)', 'price': 60000},\n",
              " {'place_name': '진솔통닭', 'menu': '오리(1마리)', 'price': 60000},\n",
              " {'place_name': '오름지미정원', 'menu': '찹스테이크 (320g)', 'price': 36000},\n",
              " {'place_name': '홍대감더덕토종닭', 'menu': '누룽지더덕토종닭', 'price': 60000},\n",
              " {'place_name': '화덕에꾸운닭 전남담양점', 'menu': '랍스터 치킨', 'price': 38000},\n",
              " {'place_name': '다사랑양념통닭', 'menu': '토종백숙', 'price': 40000},\n",
              " {'place_name': '아웃닭 신촌역점', 'menu': '오리지날 레드핀 양념치킨', 'price': 187000},\n",
              " {'place_name': '누구나홀딱반한닭 홍대점', 'menu': '바사칸치빵파티', 'price': 36900},\n",
              " {'place_name': '마녀커리크림치킨 본점', 'menu': '3-4인세트 Best3', 'price': 40000},\n",
              " {'place_name': '크치치킨 경희대점', 'menu': '치킨세트D', 'price': 37000},\n",
              " {'place_name': '누구나홀딱반한닭 선릉점', 'menu': '바사칸치빵파티', 'price': 38900},\n",
              " {'place_name': '풍미통닭', 'menu': '풍미스페셜세트', 'price': 49000},\n",
              " {'place_name': '원조꼬끼오옛날통닭', 'menu': '감자튀김', 'price': 60000},\n",
              " {'place_name': '산내돌짜장', 'menu': '매운돼지갈비찜 (큰대)', 'price': 39000},\n",
              " {'place_name': '서울치킨', 'menu': '옻닭', 'price': 40000},\n",
              " {'place_name': '평화닭갈비', 'menu': '닭볶음탕', 'price': 50000},\n",
              " {'place_name': '영자네', 'menu': '닭볶음탕(4인기준)', 'price': 47000},\n",
              " {'place_name': '우정통닭', 'menu': '산오징어', 'price': 40000},\n",
              " {'place_name': '우정통닭', 'menu': '광어사시미', 'price': 50000},\n",
              " {'place_name': '우정통닭', 'menu': '감성동사시미', 'price': 60000},\n",
              " {'place_name': '산골펜션가든', 'menu': '토종닭', 'price': 60000},\n",
              " {'place_name': '산골펜션가든', 'menu': '토종닭볶음', 'price': 60000},\n",
              " {'place_name': '화덕에꾸운닭 강원홍천점', 'menu': '랍스터 치킨', 'price': 38000},\n",
              " {'place_name': '길성이 원주점', 'menu': '누룽지 닭 백숙', 'price': 40000},\n",
              " {'place_name': '길성이 원주점', 'menu': '누룽지 오리 백숙', 'price': 50000},\n",
              " {'place_name': '길성이 원주점', 'menu': '오리주물럭(대)', 'price': 50000},\n",
              " {'place_name': '길성이 원주점', 'menu': '전복오리탕', 'price': 55000},\n",
              " {'place_name': '길성이 원주점', 'menu': '해물영계탕', 'price': 50000},\n",
              " {'place_name': '화덕에꾸운닭 창원진동점', 'menu': '랍스터 치킨', 'price': 38000},\n",
              " {'place_name': '하이네켄라운지', 'menu': 'SET1', 'price': 53000},\n",
              " {'place_name': '하이네켄라운지', 'menu': 'SET2', 'price': 50000},\n",
              " {'place_name': '하이네켄라운지', 'menu': 'SET3', 'price': 49000},\n",
              " {'place_name': '하이네켄라운지', 'menu': 'SET4', 'price': 48000},\n",
              " {'place_name': '화월통닭집', 'menu': '촌닭백숙', 'price': 40000},\n",
              " {'place_name': '앗싸마늘닭 본점', 'menu': '앗싸 스페셜 두마리 치찜세트', 'price': 37900},\n",
              " {'place_name': '안동찜닭원조', 'menu': '안동찜닭(대)', 'price': 45000},\n",
              " {'place_name': '황포식당', 'menu': '모듬조개구이(소)', 'price': 50000},\n",
              " {'place_name': '바드리산장모텔 바드리식당', 'menu': '한방백숙 촌닭', 'price': 40000},\n",
              " {'place_name': '바드리산장모텔 바드리식당', 'menu': '숙박+야외 6인평상', 'price': 50000},\n",
              " {'place_name': '바드리산장모텔 바드리식당', 'menu': '바다장어구이(국내 자연산)', 'price': 40000},\n",
              " {'place_name': '바드리산장모텔 바드리식당',\n",
              "  'menu': '숙박+야외(대형)참숯바베큐세트+평상',\n",
              "  'price': 70000},\n",
              " {'place_name': '바드리산장모텔 바드리식당', 'menu': '숙박+야외 참숯바베큐세트+6인평상', 'price': 60000},\n",
              " {'place_name': '산위에통나무집', 'menu': '닭백숙', 'price': 45000},\n",
              " {'place_name': '산위에통나무집', 'menu': '오리백숙', 'price': 45000},\n",
              " {'place_name': '산위에통나무집', 'menu': '옻닭', 'price': 45000},\n",
              " {'place_name': '산위에통나무집', 'menu': '엄계닭', 'price': 45000},\n",
              " {'place_name': '빅대디', 'menu': '4인세트', 'price': 44500},\n",
              " {'place_name': '영양바베큐&뭉티기', 'menu': '한우 뭉티기', 'price': 40000},\n",
              " {'place_name': '영양바베큐&뭉티기', 'menu': '양지오드레기', 'price': 40000}]"
            ]
          },
          "execution_count": 14,
          "metadata": {},
          "output_type": "execute_result"
        }
      ],
      "source": [
        "# 35,000원 초과하는 메뉴 검색\n",
        "db.search(Query().price > 35000)"
      ]
    },
    {
      "cell_type": "code",
      "execution_count": null,
      "metadata": {
        "colab": {
          "base_uri": "https://localhost:8080/"
        },
        "id": "selRkAgiHohY",
        "outputId": "0c11ce1a-0362-437a-9c46-906bd7607c75"
      },
      "outputs": [
        {
          "data": {
            "text/plain": [
              "[{'place_name': '화덕에꾸운닭 전남담양점', 'menu': '랍스터 치킨', 'price': 38000},\n",
              " {'place_name': '아웃닭 신촌역점', 'menu': '오리지날 레드핀 양념치킨', 'price': 187000},\n",
              " {'place_name': '누구나홀딱반한닭 홍대점', 'menu': '바사칸치빵파티', 'price': 36900},\n",
              " {'place_name': '크치치킨 경희대점', 'menu': '치킨세트D', 'price': 37000},\n",
              " {'place_name': '누구나홀딱반한닭 선릉점', 'menu': '바사칸치빵파티', 'price': 38900},\n",
              " {'place_name': '화덕에꾸운닭 강원홍천점', 'menu': '랍스터 치킨', 'price': 38000},\n",
              " {'place_name': '화덕에꾸운닭 창원진동점', 'menu': '랍스터 치킨', 'price': 38000},\n",
              " {'place_name': '앗싸마늘닭 본점', 'menu': '앗싸 스페셜 두마리 치찜세트', 'price': 37900}]"
            ]
          },
          "execution_count": 15,
          "metadata": {},
          "output_type": "execute_result"
        }
      ],
      "source": [
        "# 35,000 초과 AND \"치\" 포함\n",
        "db.search((Query().price > 35000) & (Query().menu.search('치')))"
      ]
    },
    {
      "cell_type": "code",
      "execution_count": null,
      "metadata": {
        "colab": {
          "base_uri": "https://localhost:8080/"
        },
        "id": "XAsr6TBfHsJO",
        "outputId": "7178927b-6701-4ee5-c924-7d72b3b09699"
      },
      "outputs": [
        {
          "name": "stdout",
          "output_type": "stream",
          "text": [
            "치킨 22670개의 평균 가격은 17762.21원 입니다\n"
          ]
        }
      ],
      "source": [
        "# 전국 치킨 평균 가격(프랜차이즈를 모두 포함하여 정확한 가격은 아님)\n",
        "chickens = db.search(Query().menu.search('치'))\n",
        "\n",
        "prices = []\n",
        "\n",
        "for chicken in chickens:\n",
        "    prices.append(chicken['price'])\n",
        "\n",
        "avg_price = sum(prices) / len(prices)\n",
        "\n",
        "print('치킨 %d개의 평균 가격은 %.2f원 입니다' % (len(chickens), avg_price))"
      ]
    },
    {
      "cell_type": "code",
      "execution_count": null,
      "metadata": {
        "colab": {
          "base_uri": "https://localhost:8080/",
          "height": 452
        },
        "id": "u9u_dVtGHxCr",
        "outputId": "1f685d9f-55f9-439c-9115-c8fb281847e0"
      },
      "outputs": [
        {
          "data": {
            "text/plain": [
              "<Axes: ylabel='Count'>"
            ]
          },
          "execution_count": 17,
          "metadata": {},
          "output_type": "execute_result"
        },
        {
          "data": {
            "image/png": "[encoded data removed]",
            "text/plain": [
              "<Figure size 2000x1000 with 1 Axes>"
            ]
          },
          "metadata": {},
          "output_type": "display_data"
        }
      ],
      "source": [
        "# 가격 분포 그래프\n",
        "import seaborn as sns\n",
        "import matplotlib.pyplot as plt\n",
        "\n",
        "fig, ax = plt.subplots(figsize=(20, 10))\n",
        "sns.histplot(x=prices, ax=ax)"
      ]
    },
    {
      "cell_type": "markdown",
      "metadata": {},
      "source": [
        "# 약국 찾기 - DB연결"
      ]
    },
    {
      "cell_type": "code",
      "execution_count": 57,
      "metadata": {},
      "outputs": [],
      "source": [
        "import requests\n",
        "\n",
        "def get_pharmacy_data(query, page, api_key):\n",
        "    url = \"https://dapi.kakao.com/v2/local/search/keyword.json\"\n",
        "    headers = {\"Authorization\": f\"KakaoAK {api_key}\"}\n",
        "    params = {\n",
        "        \"query\": query,\n",
        "        \"category_group_code\": \"PM9\",  # 약국\n",
        "        \"page\": page\n",
        "    }\n",
        "\n",
        "    response = requests.get(url, headers=headers, params=params)\n",
        "    if response.status_code == 200:\n",
        "        return response.json()['documents']\n",
        "    else:\n",
        "        print(\"❌ 요청 실패:\", response.status_code)\n",
        "        return []\n"
      ]
    },
    {
      "cell_type": "code",
      "execution_count": null,
      "metadata": {},
      "outputs": [
        {
          "name": "stdout",
          "output_type": "stream",
          "text": [
            "['admin', 'config', 'local', 'medicine_kakao']\n"
          ]
        }
      ],
      "source": [
        "from pymongo import MongoClient\n",
        "client = MongoClient(\"mongodb://localhost:{YOUR_HOST}/\")\n",
        "print(client.list_database_names())\n"
      ]
    },
    {
      "cell_type": "code",
      "execution_count": null,
      "metadata": {},
      "outputs": [],
      "source": [
        "from pymongo import MongoClient\n",
        "from datetime import datetime\n",
        "\n",
        "# MongoDB 연결\n",
        "client = MongoClient(\"mongodb://localhost:{YOUR_HOST}/\")\n",
        "db = client['medicine_kakao']\n",
        "collection = db[\"pharmacy_data\"]\n",
        "\n",
        "# 중복 방지를 위해 place_id 기준으로 upsert 설정\n",
        "def save_to_mongo(docs):\n",
        "    for doc in docs:\n",
        "        record = {\n",
        "            \"place_id\": doc[\"id\"],\n",
        "            \"place_name\": doc[\"place_name\"],\n",
        "            \"category_name\": doc.get(\"category_name\", \"\"),\n",
        "            \"phone\": doc.get(\"phone\", \"\"),\n",
        "            \"address_name\": doc.get(\"address_name\", \"\"),\n",
        "            \"road_address_name\": doc.get(\"road_address_name\", \"\"),\n",
        "            \"x\": float(doc[\"x\"]),\n",
        "            \"y\": float(doc[\"y\"]),\n",
        "            \"place_url\": doc.get(\"place_url\", \"\"),\n",
        "            \"collected_at\": datetime.now().strftime(\"%Y-%m-%d %H:%M:%S\")\n",
        "        }\n",
        "\n",
        "        # upsert: 기존 place_id가 있으면 업데이트, 없으면 삽입\n",
        "        collection.update_one(\n",
        "            {\"place_id\": record[\"place_id\"]},\n",
        "            {\"$set\": record},\n",
        "            upsert=True\n",
        "        )\n"
      ]
    },
    {
      "cell_type": "code",
      "execution_count": null,
      "metadata": {},
      "outputs": [],
      "source": [
        "kakao_api_key = \"{YOUR_KEY}\"  # 개인 키\n",
        "\n",
        "for page in range(1, 46):  # Kakao API 최대 45 page\n",
        "    docs = get_pharmacy_data(\"약국\", page, kakao_api_key)\n",
        "    if not docs:\n",
        "        break\n",
        "    save_to_mongo(docs)\n",
        "    print(f\"✅ Page {page} 저장 완료\")\n",
        "\n",
        "print(\"🎉 모든 데이터 저장 완료\")\n"
      ]
    }
  ],
  "metadata": {
    "colab": {
      "provenance": []
    },
    "kernelspec": {
      "display_name": "nlp_env",
      "language": "python",
      "name": "python3"
    },
    "language_info": {
      "codemirror_mode": {
        "name": "ipython",
        "version": 3
      },
      "file_extension": ".py",
      "mimetype": "text/x-python",
      "name": "python",
      "nbconvert_exporter": "python",
      "pygments_lexer": "ipython3",
      "version": "3.10.16"
    }
  },
  "nbformat": 4,
  "nbformat_minor": 0
}
