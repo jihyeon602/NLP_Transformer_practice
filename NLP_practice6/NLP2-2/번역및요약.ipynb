{
  "cells": [
    {
      "cell_type": "markdown",
      "id": "e2f327e7",
      "metadata": {
        "id": "e2f327e7"
      },
      "source": [
        "# OpenAPI를 이용한 논문, 기사, 글 요약 및 번역\n",
        "\n",
        "https://jehyunlee.github.io/2022/07/02/Python-DS-106-aaicon/\n",
        "\n",
        "### Reference\n",
        "\n",
        "```\n",
        "이제현, 유시현, 김창기, 김현구, \"Open API를 활용한 고속 논문 분석\",\n",
        "실용인공지능학회지 vol.1 p.9, 2022\n",
        "```"
      ]
    },
    {
      "cell_type": "markdown",
      "id": "df051431",
      "metadata": {
        "id": "df051431"
      },
      "source": [
        "## API 키 발급\n",
        "\n",
        "- RapidAPI : https://rapidapi.com/developer/new\n",
        "- 네이버 : https://developers.naver.com/apps/#/register?api=ppg_n2mt"
      ]
    },
    {
      "cell_type": "code",
      "execution_count": null,
      "id": "b204963a",
      "metadata": {
        "id": "b204963a"
      },
      "outputs": [],
      "source": [
        "rapidapi_key = 'YOUR_KEY'\n",
        "#naver_client_id = 'YOUR_API_KEY_HERE'\n",
        "#naver_client_secret = 'YOUR_API_KEY_HERE'"
      ]
    },
    {
      "cell_type": "markdown",
      "id": "f74b1efd",
      "metadata": {
        "id": "f74b1efd"
      },
      "source": [
        "# TLDRThis\n",
        "\n",
        "- https://rapidapi.com/tldrthishq-tldrthishq-default/api/tldrthis/\n",
        "\n",
        "---\n",
        "\n",
        "## 요약의 종류\n",
        "\n",
        "1. Abstractive(Human-like) summarization\n",
        "\n",
        "> Abstractive summarization(생성 요약)은 기존 Input text를 그대로 인용하지 않고, 기존의 내용을 새롭게 re-phrasing 하여 Summary를 생성하는 요약 모델입니다.\n",
        "\n",
        "2. Extractive summarization\n",
        "\n",
        "> 반면에 Extractive summarization(추출 요약)은 기존 Input text에 존재하는 중요한 단어를 그대로 사용하여 Summary를 생성하는 요약 모델입니다.\n",
        "\n",
        "출처 : https://supkoon.tistory.com/40"
      ]
    },
    {
      "cell_type": "markdown",
      "id": "a963e883",
      "metadata": {},
      "source": [
        "| 항목                | Extractive       | Abstractive  |\n",
        "| ----------------- | ---------------- | ------------ |\n",
        "| 방식                | 원문 문장 일부를 그대로 복사 | 의미를 파악해 재작성  |\n",
        "| HTML/구조 잔재 포함 가능성 | 매우 높음 ❗          | 거의 없음 ✅      |\n",
        "| 자연스러움             | 낮음 (구조의존)        | 높음 (언어모델 기반) |\n",
        "| 정보량               | 풍부하나 중복 많고 혼란 가능 | 요점 위주, 간결    |\n"
      ]
    },
    {
      "cell_type": "code",
      "execution_count": 6,
      "id": "69898271",
      "metadata": {
        "id": "69898271"
      },
      "outputs": [],
      "source": [
        "import requests\n",
        "from pprint import pprint"
      ]
    },
    {
      "cell_type": "markdown",
      "id": "61573ca4",
      "metadata": {
        "id": "61573ca4"
      },
      "source": [
        "### 예시 논문\n",
        "\n",
        "Attention Is All You Need\n",
        "- 페이지 : https://arxiv.org/abs/1706.03762\n",
        "- 본문(pdf) : https://arxiv.org/pdf/1706.03762.pdf"
      ]
    },
    {
      "cell_type": "markdown",
      "id": "f600ad29",
      "metadata": {
        "id": "f600ad29"
      },
      "source": [
        "## 요약"
      ]
    },
    {
      "cell_type": "markdown",
      "id": "21d87369",
      "metadata": {},
      "source": [
        "- Extractive: 원문 문장을 일부 잘라서 그대로 연결"
      ]
    },
    {
      "cell_type": "code",
      "execution_count": 23,
      "id": "WcKTwNmbH7bf",
      "metadata": {
        "colab": {
          "base_uri": "https://localhost:8080/"
        },
        "id": "WcKTwNmbH7bf",
        "outputId": "14f74ad8-3c82-4a3b-901d-b42d9ffd10da"
      },
      "outputs": [
        {
          "name": "stdout",
          "output_type": "stream",
          "text": [
            "{'article_abstract': None,\n",
            " 'article_authors': ['Mingxing Tan', 'Quoc Le'],\n",
            " 'article_html': '<div><p class=\"bibbuttontext column\">\\n'\n",
            "                 '    BibTeX\\n'\n",
            "                 '  </p><p class=\"codebox\">\\n'\n",
            "                 '    <code class=\"citecode\" id=\"bibtex\">\\n'\n",
            "                 '@InProceedings{pmlr-v97-tan19a,\\n'\n",
            "                 '  title = \\t {{E}fficient{N}et: Rethinking Model Scaling for '\n",
            "                 'Convolutional Neural Networks},\\n'\n",
            "                 '  author =       {Tan, Mingxing and Le, Quoc},\\n'\n",
            "                 '  booktitle = \\t {Proceedings of the 36th International '\n",
            "                 'Conference on Machine Learning},\\n'\n",
            "                 '  pages = \\t {6105--6114},\\n'\n",
            "                 '  year = \\t {2019},\\n'\n",
            "                 '  editor = \\t {Chaudhuri, Kamalika and Salakhutdinov, '\n",
            "                 'Ruslan},\\n'\n",
            "                 '  volume = \\t {97},\\n'\n",
            "                 '  series = \\t {Proceedings of Machine Learning Research},\\n'\n",
            "                 '  month = \\t {09--15 Jun},\\n'\n",
            "                 '  publisher =    {PMLR},\\n'\n",
            "                 '  pdf = \\t '\n",
            "                 '{http://proceedings.mlr.press/v97/tan19a/tan19a.pdf},\\n'\n",
            "                 '  url = \\t {https://proceedings.mlr.press/v97/tan19a.html},\\n'\n",
            "                 '  abstract = \\t {Convolutional Neural Networks (ConvNets) '\n",
            "                 'are commonly developed at a fixed resource budget, and then '\n",
            "                 'scaled up for better accuracy if more resources are given. '\n",
            "                 'In this paper, we systematically study model scaling and '\n",
            "                 'identify that carefully balancing network depth, width, and '\n",
            "                 'resolution can lead to better performance. Based on this '\n",
            "                 'observation, we propose a new scaling method that uniformly '\n",
            "                 'scales all dimensions of depth/width/resolution using a '\n",
            "                 'simple yet highly effective compound coefficient. We '\n",
            "                 'demonstrate the effectiveness of this method on MobileNets '\n",
            "                 'and ResNet. To go even further, we use neural architecture '\n",
            "                 'search to design a new baseline network and scale it up to '\n",
            "                 'obtain a family of models, called EfficientNets, which '\n",
            "                 'achieve much better accuracy and efficiency than previous '\n",
            "                 'ConvNets. In particular, our EfficientNet-B7 achieves '\n",
            "                 'stateof-the-art 84.4% top-1 / 97.1% top-5 accuracy on '\n",
            "                 'ImageNet, while being 8.4x smaller and 6.1x faster on '\n",
            "                 'inference than the best existing ConvNet (Huang et al., '\n",
            "                 '2018). Our EfficientNets also transfer well and achieve '\n",
            "                 'state-of-the-art accuracy on CIFAR-100 (91.7%), Flower '\n",
            "                 '(98.8%), and 3 other transfer learning datasets, with an '\n",
            "                 'order of magnitude fewer parameters.}\\n'\n",
            "                 '}\\n'\n",
            "                 '</code>\\n'\n",
            "                 '  </p>\\n'\n",
            "                 '  \\n'\n",
            "                 '  \\n'\n",
            "                 '  </div>',\n",
            " 'article_image': 'https://proceedings.mlr.press/v97/assets/images/logo-pmlr.png',\n",
            " 'article_pub_date': 'May 24, 2019',\n",
            " 'article_text': 'BibTeX\\n'\n",
            "                 '\\n'\n",
            "                 '@InProceedings{pmlr-v97-tan19a, title = {{E}fficient{N}et: '\n",
            "                 'Rethinking Model Scaling for Convolutional Neural Networks}, '\n",
            "                 'author = {Tan, Mingxing and Le, Quoc}, booktitle = '\n",
            "                 '{Proceedings of the 36th International Conference on Machine '\n",
            "                 'Learning}, pages = {6105--6114}, year = {2019}, editor = '\n",
            "                 '{Chaudhuri, Kamalika and Salakhutdinov, Ruslan}, volume = '\n",
            "                 '{97}, series = {Proceedings of Machine Learning Research}, '\n",
            "                 'month = {09--15 Jun}, publisher = {PMLR}, pdf = '\n",
            "                 '{http://proceedings.mlr.press/v97/tan19a/tan19a.pdf}, url = '\n",
            "                 '{https://proceedings.mlr.press/v97/tan19a.html}, abstract = '\n",
            "                 '{Convolutional Neural Networks (ConvNets) are commonly '\n",
            "                 'developed at a fixed resource budget, and then scaled up for '\n",
            "                 'better accuracy if more resources are given. In this paper, '\n",
            "                 'we systematically study model scaling and identify that '\n",
            "                 'carefully balancing network depth, width, and resolution can '\n",
            "                 'lead to better performance. Based on this observation, we '\n",
            "                 'propose a new scaling method that uniformly scales all '\n",
            "                 'dimensions of depth/width/resolution using a simple yet '\n",
            "                 'highly effective compound coefficient. We demonstrate the '\n",
            "                 'effectiveness of this method on MobileNets and ResNet. To go '\n",
            "                 'even further, we use neural architecture search to design a '\n",
            "                 'new baseline network and scale it up to obtain a family of '\n",
            "                 'models, called EfficientNets, which achieve much better '\n",
            "                 'accuracy and efficiency than previous ConvNets. In '\n",
            "                 'particular, our EfficientNet-B7 achieves stateof-the-art '\n",
            "                 '84.4% top-1 / 97.1% top-5 accuracy on ImageNet, while being '\n",
            "                 '8.4x smaller and 6.1x faster on inference than the best '\n",
            "                 'existing ConvNet (Huang et al., 2018). Our EfficientNets '\n",
            "                 'also transfer well and achieve state-of-the-art accuracy on '\n",
            "                 'CIFAR-100 (91.7%), Flower (98.8%), and 3 other transfer '\n",
            "                 'learning datasets, with an order of magnitude fewer '\n",
            "                 'parameters.} }\\n'\n",
            "                 '\\n'\n",
            "                 'Copy to Clipboard\\n'\n",
            "                 '\\n'\n",
            "                 'Download',\n",
            " 'article_title': 'EfficientNet: Rethinking Model Scaling for Convolutional '\n",
            "                  'Neural Networks',\n",
            " 'article_url': 'https://proceedings.mlr.press/v97/tan19a.html?ref=jina-ai-gmbh.ghost.io',\n",
            " 'summary': ['In this paper, we systematically study model scaling and '\n",
            "             'identify that carefully balancing network depth, width, and '\n",
            "             'resolution can lead to better performance.',\n",
            "             'Based on this observation, we propose a new scaling method that '\n",
            "             'uniformly scales all dimensions of depth/width/resolution using '\n",
            "             'a simple yet highly effective compound coefficient.',\n",
            "             'We demonstrate the effectiveness of this method on MobileNets '\n",
            "             'and ResNet.',\n",
            "             'To go even further, we use neural architecture search to design '\n",
            "             'a new baseline network and scale it up to obtain a family of '\n",
            "             'models, called EfficientNets, which achieve much better accuracy '\n",
            "             'and efficiency than previous ConvNets.',\n",
            "             'In particular, our EfficientNet-B7 achieves stateof-the-art '\n",
            "             '84.4% top-1 / 97.1% top-5 accuracy on ImageNet, while being 8.4x '\n",
            "             'smaller and 6.1x faster on inference than the best existing '\n",
            "             'ConvNet (Huang et al.,']}\n"
          ]
        }
      ],
      "source": [
        "url = \"https://tldrthis.p.rapidapi.com/v1/model/extractive/summarize-url/\"\n",
        "\n",
        "payload = {\n",
        "    \"url\": \"https://proceedings.mlr.press/v97/tan19a.html?ref=jina-ai-gmbh.ghost.io\", # 주소   https://arxiv.org/abs/1706.03762   https://arxiv.org/pdf/1706.03762.pdf\n",
        "    \"min_length\": 100, # 최소 길이\n",
        "    \"max_length\": 300, # 최대 길이\n",
        "    \"is_detailed\": False # 한 문장으로 반환할 것인지 여부\n",
        "}\n",
        "\n",
        "headers = {\n",
        "    \"content-type\": \"application/json\",\n",
        "    \"X-RapidAPI-Key\": rapidapi_key,\n",
        "    \"X-RapidAPI-Host\": \"tldrthis.p.rapidapi.com\"\n",
        "}\n",
        "\n",
        "response = requests.request(\"POST\", url, json=payload, headers=headers)\n",
        "\n",
        "pprint(response.json())"
      ]
    },
    {
      "cell_type": "code",
      "execution_count": 24,
      "id": "e62e15d3",
      "metadata": {},
      "outputs": [
        {
          "name": "stdout",
          "output_type": "stream",
          "text": [
            "In this paper, we systematically study model scaling and identify that carefully balancing network depth, width, and resolution can lead to better performance.\n"
          ]
        }
      ],
      "source": [
        "summary = response.json()['summary'][0].strip()\n",
        "\n",
        "print(summary)"
      ]
    },
    {
      "cell_type": "markdown",
      "id": "2df3a5a9",
      "metadata": {},
      "source": [
        "- Abstractive: 문장 전체를 재구성해 새롭게 요약 생성"
      ]
    },
    {
      "cell_type": "code",
      "execution_count": 20,
      "id": "4fedd821",
      "metadata": {},
      "outputs": [
        {
          "name": "stdout",
          "output_type": "stream",
          "text": [
            "{'article_abstract': None,\n",
            " 'article_authors': ['Mingxing Tan', 'Quoc Le'],\n",
            " 'article_html': '<div><p class=\"bibbuttontext column\">\\n'\n",
            "                 '    BibTeX\\n'\n",
            "                 '  </p><p class=\"codebox\">\\n'\n",
            "                 '    <code class=\"citecode\" id=\"bibtex\">\\n'\n",
            "                 '@InProceedings{pmlr-v97-tan19a,\\n'\n",
            "                 '  title = \\t {{E}fficient{N}et: Rethinking Model Scaling for '\n",
            "                 'Convolutional Neural Networks},\\n'\n",
            "                 '  author =       {Tan, Mingxing and Le, Quoc},\\n'\n",
            "                 '  booktitle = \\t {Proceedings of the 36th International '\n",
            "                 'Conference on Machine Learning},\\n'\n",
            "                 '  pages = \\t {6105--6114},\\n'\n",
            "                 '  year = \\t {2019},\\n'\n",
            "                 '  editor = \\t {Chaudhuri, Kamalika and Salakhutdinov, '\n",
            "                 'Ruslan},\\n'\n",
            "                 '  volume = \\t {97},\\n'\n",
            "                 '  series = \\t {Proceedings of Machine Learning Research},\\n'\n",
            "                 '  month = \\t {09--15 Jun},\\n'\n",
            "                 '  publisher =    {PMLR},\\n'\n",
            "                 '  pdf = \\t '\n",
            "                 '{http://proceedings.mlr.press/v97/tan19a/tan19a.pdf},\\n'\n",
            "                 '  url = \\t {https://proceedings.mlr.press/v97/tan19a.html},\\n'\n",
            "                 '  abstract = \\t {Convolutional Neural Networks (ConvNets) '\n",
            "                 'are commonly developed at a fixed resource budget, and then '\n",
            "                 'scaled up for better accuracy if more resources are given. '\n",
            "                 'In this paper, we systematically study model scaling and '\n",
            "                 'identify that carefully balancing network depth, width, and '\n",
            "                 'resolution can lead to better performance. Based on this '\n",
            "                 'observation, we propose a new scaling method that uniformly '\n",
            "                 'scales all dimensions of depth/width/resolution using a '\n",
            "                 'simple yet highly effective compound coefficient. We '\n",
            "                 'demonstrate the effectiveness of this method on MobileNets '\n",
            "                 'and ResNet. To go even further, we use neural architecture '\n",
            "                 'search to design a new baseline network and scale it up to '\n",
            "                 'obtain a family of models, called EfficientNets, which '\n",
            "                 'achieve much better accuracy and efficiency than previous '\n",
            "                 'ConvNets. In particular, our EfficientNet-B7 achieves '\n",
            "                 'stateof-the-art 84.4% top-1 / 97.1% top-5 accuracy on '\n",
            "                 'ImageNet, while being 8.4x smaller and 6.1x faster on '\n",
            "                 'inference than the best existing ConvNet (Huang et al., '\n",
            "                 '2018). Our EfficientNets also transfer well and achieve '\n",
            "                 'state-of-the-art accuracy on CIFAR-100 (91.7%), Flower '\n",
            "                 '(98.8%), and 3 other transfer learning datasets, with an '\n",
            "                 'order of magnitude fewer parameters.}\\n'\n",
            "                 '}\\n'\n",
            "                 '</code>\\n'\n",
            "                 '  </p>\\n'\n",
            "                 '  \\n'\n",
            "                 '  \\n'\n",
            "                 '  </div>',\n",
            " 'article_image': 'https://proceedings.mlr.press/v97/assets/images/logo-pmlr.png',\n",
            " 'article_pub_date': 'May 24, 2019',\n",
            " 'article_text': 'BibTeX\\n'\n",
            "                 '\\n'\n",
            "                 '@InProceedings{pmlr-v97-tan19a, title = {{E}fficient{N}et: '\n",
            "                 'Rethinking Model Scaling for Convolutional Neural Networks}, '\n",
            "                 'author = {Tan, Mingxing and Le, Quoc}, booktitle = '\n",
            "                 '{Proceedings of the 36th International Conference on Machine '\n",
            "                 'Learning}, pages = {6105--6114}, year = {2019}, editor = '\n",
            "                 '{Chaudhuri, Kamalika and Salakhutdinov, Ruslan}, volume = '\n",
            "                 '{97}, series = {Proceedings of Machine Learning Research}, '\n",
            "                 'month = {09--15 Jun}, publisher = {PMLR}, pdf = '\n",
            "                 '{http://proceedings.mlr.press/v97/tan19a/tan19a.pdf}, url = '\n",
            "                 '{https://proceedings.mlr.press/v97/tan19a.html}, abstract = '\n",
            "                 '{Convolutional Neural Networks (ConvNets) are commonly '\n",
            "                 'developed at a fixed resource budget, and then scaled up for '\n",
            "                 'better accuracy if more resources are given. In this paper, '\n",
            "                 'we systematically study model scaling and identify that '\n",
            "                 'carefully balancing network depth, width, and resolution can '\n",
            "                 'lead to better performance. Based on this observation, we '\n",
            "                 'propose a new scaling method that uniformly scales all '\n",
            "                 'dimensions of depth/width/resolution using a simple yet '\n",
            "                 'highly effective compound coefficient. We demonstrate the '\n",
            "                 'effectiveness of this method on MobileNets and ResNet. To go '\n",
            "                 'even further, we use neural architecture search to design a '\n",
            "                 'new baseline network and scale it up to obtain a family of '\n",
            "                 'models, called EfficientNets, which achieve much better '\n",
            "                 'accuracy and efficiency than previous ConvNets. In '\n",
            "                 'particular, our EfficientNet-B7 achieves stateof-the-art '\n",
            "                 '84.4% top-1 / 97.1% top-5 accuracy on ImageNet, while being '\n",
            "                 '8.4x smaller and 6.1x faster on inference than the best '\n",
            "                 'existing ConvNet (Huang et al., 2018). Our EfficientNets '\n",
            "                 'also transfer well and achieve state-of-the-art accuracy on '\n",
            "                 'CIFAR-100 (91.7%), Flower (98.8%), and 3 other transfer '\n",
            "                 'learning datasets, with an order of magnitude fewer '\n",
            "                 'parameters.} }\\n'\n",
            "                 '\\n'\n",
            "                 'Copy to Clipboard\\n'\n",
            "                 '\\n'\n",
            "                 'Download',\n",
            " 'article_title': 'EfficientNet: Rethinking Model Scaling for Convolutional '\n",
            "                  'Neural Networks',\n",
            " 'article_url': 'https://proceedings.mlr.press/v97/tan19a.html?ref=jina-ai-gmbh.ghost.io',\n",
            " 'summary': ['Convolutional Neural Networks (ConvNets) are commonly developed '\n",
            "             'at a fixed resource budget, and then scaled up for better '\n",
            "             'accuracy if more resources are given. Based on this observation, '\n",
            "             'we propose a new scaling method that uniformly scales all '\n",
            "             'dimensions of depth/width/resolution using a simple yet highly '\n",
            "             'effective compound coefficient. We demonstrate the effectiveness '\n",
            "             'of this method on MobileNets and ResNet.']}\n"
          ]
        }
      ],
      "source": [
        "url = \"https://tldrthis.p.rapidapi.com/v1/model/abstractive/summarize-url/\"\n",
        "\n",
        "payload = {\n",
        "    \"url\": \"https://proceedings.mlr.press/v97/tan19a.html?ref=jina-ai-gmbh.ghost.io\", # 주소   https://arxiv.org/abs/1706.03762   https://arxiv.org/pdf/1706.03762.pdf\n",
        "    \"min_length\": 100, # 최소 길이\n",
        "    \"max_length\": 300, # 최대 길이\n",
        "    \"is_detailed\": False # 한 문장으로 반환할 것인지 여부\n",
        "}\n",
        "\n",
        "headers = {\n",
        "    \"content-type\": \"application/json\",\n",
        "    \"X-RapidAPI-Key\": rapidapi_key,\n",
        "    \"X-RapidAPI-Host\": \"tldrthis.p.rapidapi.com\"\n",
        "}\n",
        "\n",
        "response = requests.request(\"POST\", url, json=payload, headers=headers)\n",
        "\n",
        "pprint(response.json())"
      ]
    },
    {
      "cell_type": "code",
      "execution_count": 21,
      "id": "e2dd9ce1",
      "metadata": {},
      "outputs": [
        {
          "name": "stdout",
          "output_type": "stream",
          "text": [
            "Convolutional Neural Networks (ConvNets) are commonly developed at a fixed resource budget, and then scaled up for better accuracy if more resources are given. Based on this observation, we propose a new scaling method that uniformly scales all dimensions of depth/width/resolution using a simple yet highly effective compound coefficient. We demonstrate the effectiveness of this method on MobileNets and ResNet.\n"
          ]
        }
      ],
      "source": [
        "summary = response.json()['summary'][0].strip()\n",
        "\n",
        "print(summary)"
      ]
    },
    {
      "cell_type": "markdown",
      "id": "CK5FMBo8q1-t",
      "metadata": {
        "id": "CK5FMBo8q1-t"
      },
      "source": [
        "구글 번역 API\n",
        "1. googletrans\n",
        "2. google cloud translation : api키도, 유료의 영역도 있음"
      ]
    },
    {
      "cell_type": "markdown",
      "id": "1SCm3t-v2mQR",
      "metadata": {
        "id": "1SCm3t-v2mQR"
      },
      "source": [
        "구글 번역 api 레퍼런스 : https://www.dinolabs.ai/386"
      ]
    },
    {
      "cell_type": "code",
      "execution_count": null,
      "id": "Dzwr1xBDkuG3",
      "metadata": {
        "colab": {
          "base_uri": "https://localhost:8080/"
        },
        "id": "Dzwr1xBDkuG3",
        "outputId": "af8d8b14-d9e1-4336-d392-40edb2ce1c3f"
      },
      "outputs": [],
      "source": [
        "!pip install googletrans==3.1.0a0"
      ]
    },
    {
      "cell_type": "code",
      "execution_count": 25,
      "id": "15e6f3c9",
      "metadata": {},
      "outputs": [
        {
          "name": "stdout",
          "output_type": "stream",
          "text": [
            "번역된 텍스트: ['이 논문에서는 모델 스케일링을 체계적으로 연구하고 네트워크 깊이, 너비 및 해상도를 신중하게 균형있게 균형을 잡으면 성능이 향상 될 수 있습니다.', '이 관찰에 기초하여, 우리는 간단하면서도 효과적인 화합물 계수를 사용하여 깊이/너비/해상도의 모든 치수를 균일하게 스케일링하는 새로운 스케일링 방법을 제안합니다.', '우리는 Mobilenets 및 Resnet에 대한이 방법의 효과를 보여줍니다.', '더 나아가서, 우리는 신경 아키텍처 검색을 사용하여 새로운 기준 네트워크를 설계하고 확장하여 효율성이라는 모델 패밀리를 얻기 위해 이전 콩품보다 훨씬 더 정확성과 효율성을 달성합니다.', '특히, 우리의 효율적인 NET-B7은 ImageNet에서 84.4% 상위 1 / 97.1% 상위 5 위 정확도를 달성하는 반면, 기존 Convnet (Huang et al., Huang et al., Huang et al., Huang et al., Huang et al.,)보다 8.4 배 더 작고 6.1 배 더 빠릅니다.']\n"
          ]
        }
      ],
      "source": [
        "#<extractive> - 번역\n",
        "from googletrans import Translator\n",
        "import json\n",
        "\n",
        "def translate_text(text, target_language='ko'):\n",
        "    translator = Translator()\n",
        "    translated_sentences = []\n",
        "    for sentence in text:\n",
        "        translated_sentence = translator.translate(sentence, dest=target_language)\n",
        "        translated_sentences.append(translated_sentence.text)\n",
        "    return translated_sentences\n",
        "\n",
        "# 응답받은 텍스트 디코딩\n",
        "response_text = response.text # response.content / response.text\n",
        "response_json = json.loads(response_text)\n",
        "\n",
        "# 번역할 텍스트 추출\n",
        "text_to_translate = response_json.get('summary', '')\n",
        "\n",
        "# 번역된 텍스트\n",
        "translated_text = translate_text(text_to_translate)\n",
        "\n",
        "print(\"번역된 텍스트:\", translated_text)"
      ]
    },
    {
      "cell_type": "code",
      "execution_count": null,
      "id": "O73SLFEXkrmi",
      "metadata": {
        "colab": {
          "base_uri": "https://localhost:8080/"
        },
        "id": "O73SLFEXkrmi",
        "outputId": "eeaf9e5f-7ad9-45c1-8e75-4c81077ac625"
      },
      "outputs": [
        {
          "name": "stdout",
          "output_type": "stream",
          "text": [
            "번역된 텍스트: ['Convolutional Neural Networks (Convnets)는 일반적으로 고정 된 자원 예산으로 개발되며 더 많은 자원이 제공되면 더 나은 정확도로 확장됩니다. 이 관찰에 기초하여, 우리는 간단하면서도 효과적인 화합물 계수를 사용하여 깊이/너비/해상도의 모든 치수를 균일하게 스케일링하는 새로운 스케일링 방법을 제안합니다. 우리는 Mobilenets 및 Resnet에 대한이 방법의 효과를 보여줍니다.']\n"
          ]
        }
      ],
      "source": [
        "#<abstractive> - 번역\n",
        "from googletrans import Translator\n",
        "import json\n",
        "\n",
        "def translate_text(text, target_language='ko'):\n",
        "    translator = Translator()\n",
        "    translated_sentences = []\n",
        "    for sentence in text:\n",
        "        translated_sentence = translator.translate(sentence, dest=target_language)\n",
        "        translated_sentences.append(translated_sentence.text)\n",
        "    return translated_sentences\n",
        "\n",
        "# 응답받은 텍스트 디코딩\n",
        "response_text = response.text # response.content / response.text\n",
        "response_json = json.loads(response_text)\n",
        "\n",
        "# 번역할 텍스트 추출\n",
        "text_to_translate = response_json.get('summary', '')\n",
        "\n",
        "# 번역된 텍스트\n",
        "translated_text = translate_text(text_to_translate)\n",
        "\n",
        "print(\"번역된 텍스트:\", translated_text)\n"
      ]
    },
    {
      "cell_type": "markdown",
      "id": "c8120c7c",
      "metadata": {},
      "source": [
        "## 다른 기사 영문 번역\n",
        "기사 url = \"https://www.bbc.com/news/articles/c4gkdppymk4o\""
      ]
    },
    {
      "cell_type": "code",
      "execution_count": 48,
      "id": "341fc510",
      "metadata": {},
      "outputs": [
        {
          "name": "stdout",
          "output_type": "stream",
          "text": [
            "{'article_abstract': None,\n",
            " 'article_authors': None,\n",
            " 'article_html': '<div><p class=\"sc-3b6b161a-0 fDtfvH\"><h1 '\n",
            "                 'class=\"sc-f98b1ad2-0 dfvxux\">Chinese nationals accused of '\n",
            "                 \"smuggling 'dangerous biological pathogen' into \"\n",
            "                 'US</h1></p><p>The two Chinese citizens allegedly sought to '\n",
            "                 'use the University of Michigan laboratory to conduct '\n",
            "                 'research on the pathogen</p><p>The fungus called Fusarium '\n",
            "                 'graminearum can cause a disease in wheat, barley, maize and '\n",
            "                 'rice that can wipe out crops and lead to vomiting and liver '\n",
            "                 'damage if it gets into food.</p><p>The complaint alleges Mr '\n",
            "                 'Liu tried to smuggle the fungus through Detroit airport so '\n",
            "                 'he could study it at a University of Michigan laboratory '\n",
            "                 'where his girlfriend, Ms Jian, worked.</p><p>Yunqing Jian, '\n",
            "                 '33, and Zunyong Liu, 34, have been charged with conspiracy, '\n",
            "                 'smuggling goods, false statements, and visa fraud, the US '\n",
            "                 \"Attorney's Office for the Eastern District of Michigan \"\n",
            "                 'announced on Tuesday.</p><p>Two Chinese nationals have been '\n",
            "                 'accused of smuggling a fungus into the US that officials '\n",
            "                 'describe as a \"dangerous biological pathogen\".</p><p '\n",
            "                 'class=\"sc-9a00e533-0 hxuGS\">The fungus is described in '\n",
            "                 'scientific literature as a \"potential agroterrorism weapon\", '\n",
            "                 \"according to the US Attorney's Office, adding it is \"\n",
            "                 'responsible for \"billions of dollars in economic losses '\n",
            "                 'worldwide each year.\"</p><p class=\"sc-9a00e533-0 '\n",
            "                 'hxuGS\">Officials further allege Ms Jian received funding '\n",
            "                 'from the Chinese government for her research on the pathogen '\n",
            "                 'in China. They also claim she is a member of the Chinese '\n",
            "                 'Communist Party.</p><p class=\"sc-9a00e533-0 hxuGS\">United '\n",
            "                 'States Attorney Jerome F Gorgon Jr described the allegations '\n",
            "                 'as of the \"gravest national security concerns\".</p><p '\n",
            "                 'class=\"sc-9a00e533-0 hxuGS\">\"These two aliens have been '\n",
            "                 'charged with smuggling a fungus that has been described as a '\n",
            "                 \"'potential agroterrorism weapon' into in the [sic] heartland \"\n",
            "                 'of America, where they apparently intended to use a '\n",
            "                 'University of Michigan laboratory to further their '\n",
            "                 'scheme.\"</p><p class=\"sc-9a00e533-0 hxuGS\">The investigation '\n",
            "                 'was a joint effort between the FBI and US Customs and Border '\n",
            "                 'Protection.</p><p class=\"sc-9a00e533-0 hxuGS\">Ms Jian is due '\n",
            "                 'to appear in court in Detroit, Michigan on Tuesday.</p><p '\n",
            "                 'class=\"sc-9a00e533-0 hxuGS\">The BBC has reached out to the '\n",
            "                 'University of Michigan and the Chinese embassy in Washington '\n",
            "                 'DC for comment. </p><p class=\"sc-9a00e533-0 hxuGS\">The '\n",
            "                 'charges come amid strained relations between the US and '\n",
            "                 'China, and just days after the Trump administration vowed '\n",
            "                 'to<a target=\"_self\" '\n",
            "                 'href=\"https://www.bbc.com/news/articles/cvg78xng04xo\" '\n",
            "                 'class=\"sc-f9178328-0 bGFWdi\"> \"aggressively\" revoke the '\n",
            "                 'visas of Chinese nationals studying in the US. </a></p><p '\n",
            "                 'class=\"sc-9a00e533-0 hxuGS\">Beijing also said Washington <a '\n",
            "                 'target=\"_self\" '\n",
            "                 'href=\"https://www.bbc.com/news/articles/cj09dnzjdpzo\" '\n",
            "                 'class=\"sc-f9178328-0 bGFWdi\">\"severely violated\" a trade '\n",
            "                 'truce reached in Geneva last month</a>, when both countries '\n",
            "                 'lowered tariffs on goods imported from each other.</p><p '\n",
            "                 'class=\"sc-9a00e533-0 hxuGS\">Earlier this week, a Chinese '\n",
            "                 'student at the University of Michigan was charged for '\n",
            "                 'illegally voting in the October 2024 election. </p></div>',\n",
            " 'article_image': 'https://ichef.bbci.co.uk/news/1024/branded_news/456f/live/7ac29450-40a1-11f0-835b-310c7b938e84.jpg',\n",
            " 'article_pub_date': None,\n",
            " 'article_text': \"Chinese nationals accused of smuggling 'dangerous biological \"\n",
            "                 \"pathogen' into US\\n\"\n",
            "                 '\\n'\n",
            "                 'The two Chinese citizens allegedly sought to use the '\n",
            "                 'University of Michigan laboratory to conduct research on the '\n",
            "                 'pathogen\\n'\n",
            "                 '\\n'\n",
            "                 'The fungus called Fusarium graminearum can cause a disease '\n",
            "                 'in wheat, barley, maize and rice that can wipe out crops and '\n",
            "                 'lead to vomiting and liver damage if it gets into food.\\n'\n",
            "                 '\\n'\n",
            "                 'The complaint alleges Mr Liu tried to smuggle the fungus '\n",
            "                 'through Detroit airport so he could study it at a University '\n",
            "                 'of Michigan laboratory where his girlfriend, Ms Jian, '\n",
            "                 'worked.\\n'\n",
            "                 '\\n'\n",
            "                 'Yunqing Jian, 33, and Zunyong Liu, 34, have been charged '\n",
            "                 'with conspiracy, smuggling goods, false statements, and visa '\n",
            "                 \"fraud, the US Attorney's Office for the Eastern District of \"\n",
            "                 'Michigan announced on Tuesday.\\n'\n",
            "                 '\\n'\n",
            "                 'Two Chinese nationals have been accused of smuggling a '\n",
            "                 'fungus into the US that officials describe as a \"dangerous '\n",
            "                 'biological pathogen\".\\n'\n",
            "                 '\\n'\n",
            "                 'The fungus is described in scientific literature as a '\n",
            "                 '\"potential agroterrorism weapon\", according to the US '\n",
            "                 'Attorney\\'s Office, adding it is responsible for \"billions '\n",
            "                 'of dollars in economic losses worldwide each year.\"\\n'\n",
            "                 '\\n'\n",
            "                 'Officials further allege Ms Jian received funding from the '\n",
            "                 'Chinese government for her research on the pathogen in '\n",
            "                 'China. They also claim she is a member of the Chinese '\n",
            "                 'Communist Party.\\n'\n",
            "                 '\\n'\n",
            "                 'United States Attorney Jerome F Gorgon Jr described the '\n",
            "                 'allegations as of the \"gravest national security concerns\".\\n'\n",
            "                 '\\n'\n",
            "                 '\"These two aliens have been charged with smuggling a fungus '\n",
            "                 \"that has been described as a 'potential agroterrorism \"\n",
            "                 \"weapon' into in the [sic] heartland of America, where they \"\n",
            "                 'apparently intended to use a University of Michigan '\n",
            "                 'laboratory to further their scheme.\"\\n'\n",
            "                 '\\n'\n",
            "                 'The investigation was a joint effort between the FBI and US '\n",
            "                 'Customs and Border Protection.\\n'\n",
            "                 '\\n'\n",
            "                 'Ms Jian is due to appear in court in Detroit, Michigan on '\n",
            "                 'Tuesday.\\n'\n",
            "                 '\\n'\n",
            "                 'The BBC has reached out to the University of Michigan and '\n",
            "                 'the Chinese embassy in Washington DC for comment.\\n'\n",
            "                 '\\n'\n",
            "                 'The charges come amid strained relations between the US and '\n",
            "                 'China, and just days after the Trump administration vowed to '\n",
            "                 '\"aggressively\" revoke the visas of Chinese nationals '\n",
            "                 'studying in the US.\\n'\n",
            "                 '\\n'\n",
            "                 'Beijing also said Washington \"severely violated\" a trade '\n",
            "                 'truce reached in Geneva last month, when both countries '\n",
            "                 'lowered tariffs on goods imported from each other.\\n'\n",
            "                 '\\n'\n",
            "                 'Earlier this week, a Chinese student at the University of '\n",
            "                 'Michigan was charged for illegally voting in the October '\n",
            "                 '2024 election.',\n",
            " 'article_title': \"Chinese nationals accused of smuggling 'biological \"\n",
            "                  \"pathogen' into US\",\n",
            " 'article_url': 'https://www.bbc.com/news/articles/c4gkdppymk4o',\n",
            " 'summary': [\"Chinese nationals accused of smuggling 'dangerous biological \"\n",
            "             \"pathogen' into US\\n\"\n",
            "             '\\n'\n",
            "             'The two Chinese citizens allegedly sought to use the University '\n",
            "             'of Michigan laboratory to conduct research on the pathogen\\n'\n",
            "             '\\n'\n",
            "             'The fungus called Fusarium graminearum can cause a disease in '\n",
            "             'wheat, barley, maize and rice that can wipe out crops and lead '\n",
            "             'to vomiting and liver damage if it gets into food.',\n",
            "             'They also claim she is a member of the Chinese Communist Party.',\n",
            "             '\"These two aliens have been charged with smuggling a fungus that '\n",
            "             \"has been described as a 'potential agroterrorism weapon' into in \"\n",
            "             'the [sic] heartland of America, where they apparently intended '\n",
            "             'to use a University of Michigan laboratory to further their '\n",
            "             'scheme.\"',\n",
            "             'The investigation was a joint effort between the FBI and US '\n",
            "             'Customs and Border Protection.',\n",
            "             'Ms Jian is due to appear in court in Detroit, Michigan on '\n",
            "             'Tuesday.',\n",
            "             'The charges come amid strained relations between the US and '\n",
            "             'China, and just days after the Trump administration vowed to '\n",
            "             '\"aggressively\" revoke the visas of Chinese nationals studying in '\n",
            "             'the US.']}\n"
          ]
        }
      ],
      "source": [
        "url = \"https://tldrthis.p.rapidapi.com/v1/model/extractive/summarize-url/\"\n",
        "\n",
        "payload = {\n",
        "    \"url\": \"https://www.bbc.com/news/articles/c4gkdppymk4o\", # 주소   https://arxiv.org/abs/1706.03762   https://arxiv.org/pdf/1706.03762.pdf\n",
        "    \"min_length\": 100, # 최소 길이\n",
        "    \"max_length\": 300, # 최대 길이\n",
        "    \"is_detailed\": False # 한 문장으로 반환할 것인지 여부\n",
        "}\n",
        "\n",
        "headers = {\n",
        "    \"content-type\": \"application/json\",\n",
        "    \"X-RapidAPI-Key\": rapidapi_key,\n",
        "    \"X-RapidAPI-Host\": \"tldrthis.p.rapidapi.com\"\n",
        "}\n",
        "\n",
        "response = requests.request(\"POST\", url, json=payload, headers=headers)\n",
        "\n",
        "pprint(response.json())"
      ]
    },
    {
      "cell_type": "code",
      "execution_count": 49,
      "id": "e5c11f50",
      "metadata": {},
      "outputs": [
        {
          "name": "stdout",
          "output_type": "stream",
          "text": [
            "Chinese nationals accused of smuggling 'dangerous biological pathogen' into US\n",
            "\n",
            "The two Chinese citizens allegedly sought to use the University of Michigan laboratory to conduct research on the pathogen\n",
            "\n",
            "The fungus called Fusarium graminearum can cause a disease in wheat, barley, maize and rice that can wipe out crops and lead to vomiting and liver damage if it gets into food.\n"
          ]
        }
      ],
      "source": [
        "summary = response.json()['summary'][0].strip()\n",
        "\n",
        "print(summary)"
      ]
    },
    {
      "cell_type": "code",
      "execution_count": 50,
      "id": "3bda2168",
      "metadata": {},
      "outputs": [
        {
          "name": "stdout",
          "output_type": "stream",
          "text": [
            "번역된 텍스트: [\"'위험한 생물학적 병원체'를 밀수 혐의로 기소 한 중국인들은 우리에게\\n\\n두 중국 시민은 미시간 대학교 연구소를 사용하여 병원체에 대한 연구를 수행하려고했다고 주장했다.\\n\\nFusarium graminearum이라는 곰팡이는 밀, 보리, 옥수수 및 쌀에서 질병을 일으켜 농작물을 닦아 내고 음식에 들어가면 구토 및 간 손상을 유발할 수 있습니다.\", '그들은 또한 그녀가 중국 공산당의 일원이라고 주장합니다.', '\"이 두 외계인은 미국의 [Sic] Heartland에서 \\'잠재적 인 농업 무기\\'로 묘사 된 곰팡이를 밀수입 한 혐의로 기소되어 미시간 대학교 실험실을 사용하여 자신의 계획을 더욱 발전 시키려고했습니다.\"', '이 조사는 FBI와 미국 세관과 국경 보호 사이의 공동 노력이었습니다.', 'Jian 씨는 화요일 미시간 주 디트로이트에있는 법정에 출두 할 예정입니다.', '이 기소는 미국과 중국 사이의 긴장된 관계로 인해 트럼프 행정부가 미국에서 공부하는 중국 국민의 비자를 \"적극적으로\"맹세 한 지 며칠 후 며칠이 지났다.']\n"
          ]
        }
      ],
      "source": [
        "#<extractive> - 번역\n",
        "from googletrans import Translator\n",
        "import json\n",
        "\n",
        "def translate_text(text, target_language='ko'):\n",
        "    translator = Translator()\n",
        "    translated_sentences = []\n",
        "    for sentence in text:\n",
        "        translated_sentence = translator.translate(sentence, dest=target_language)\n",
        "        translated_sentences.append(translated_sentence.text)\n",
        "    return translated_sentences\n",
        "\n",
        "# 응답받은 텍스트 디코딩\n",
        "response_text = response.text # response.content / response.text\n",
        "response_json = json.loads(response_text)\n",
        "\n",
        "# 번역할 텍스트 추출\n",
        "text_to_translate = response_json.get('summary', '')\n",
        "\n",
        "# 번역된 텍스트\n",
        "translated_text = translate_text(text_to_translate)\n",
        "\n",
        "print(\"번역된 텍스트:\", translated_text)"
      ]
    },
    {
      "cell_type": "code",
      "execution_count": 45,
      "id": "be74e69a",
      "metadata": {},
      "outputs": [
        {
          "name": "stdout",
          "output_type": "stream",
          "text": [
            "{'article_abstract': None,\n",
            " 'article_authors': None,\n",
            " 'article_html': '<div><p class=\"sc-3b6b161a-0 fDtfvH\"><h1 '\n",
            "                 'class=\"sc-f98b1ad2-0 dfvxux\">Chinese nationals accused of '\n",
            "                 \"smuggling 'dangerous biological pathogen' into \"\n",
            "                 'US</h1></p><p>The two Chinese citizens allegedly sought to '\n",
            "                 'use the University of Michigan laboratory to conduct '\n",
            "                 'research on the pathogen</p><p>The fungus called Fusarium '\n",
            "                 'graminearum can cause a disease in wheat, barley, maize and '\n",
            "                 'rice that can wipe out crops and lead to vomiting and liver '\n",
            "                 'damage if it gets into food.</p><p>The complaint alleges Mr '\n",
            "                 'Liu tried to smuggle the fungus through Detroit airport so '\n",
            "                 'he could study it at a University of Michigan laboratory '\n",
            "                 'where his girlfriend, Ms Jian, worked.</p><p>Yunqing Jian, '\n",
            "                 '33, and Zunyong Liu, 34, have been charged with conspiracy, '\n",
            "                 'smuggling goods, false statements, and visa fraud, the US '\n",
            "                 \"Attorney's Office for the Eastern District of Michigan \"\n",
            "                 'announced on Tuesday.</p><p>Two Chinese nationals have been '\n",
            "                 'accused of smuggling a fungus into the US that officials '\n",
            "                 'describe as a \"dangerous biological pathogen\".</p><p '\n",
            "                 'class=\"sc-9a00e533-0 hxuGS\">The fungus is described in '\n",
            "                 'scientific literature as a \"potential agroterrorism weapon\", '\n",
            "                 \"according to the US Attorney's Office, adding it is \"\n",
            "                 'responsible for \"billions of dollars in economic losses '\n",
            "                 'worldwide each year.\"</p><p class=\"sc-9a00e533-0 '\n",
            "                 'hxuGS\">Officials further allege Ms Jian received funding '\n",
            "                 'from the Chinese government for her research on the pathogen '\n",
            "                 'in China. They also claim she is a member of the Chinese '\n",
            "                 'Communist Party.</p><p class=\"sc-9a00e533-0 hxuGS\">United '\n",
            "                 'States Attorney Jerome F Gorgon Jr described the allegations '\n",
            "                 'as of the \"gravest national security concerns\".</p><p '\n",
            "                 'class=\"sc-9a00e533-0 hxuGS\">\"These two aliens have been '\n",
            "                 'charged with smuggling a fungus that has been described as a '\n",
            "                 \"'potential agroterrorism weapon' into in the [sic] heartland \"\n",
            "                 'of America, where they apparently intended to use a '\n",
            "                 'University of Michigan laboratory to further their '\n",
            "                 'scheme.\"</p><p class=\"sc-9a00e533-0 hxuGS\">The investigation '\n",
            "                 'was a joint effort between the FBI and US Customs and Border '\n",
            "                 'Protection.</p><p class=\"sc-9a00e533-0 hxuGS\">Ms Jian is due '\n",
            "                 'to appear in court in Detroit, Michigan on Tuesday.</p><p '\n",
            "                 'class=\"sc-9a00e533-0 hxuGS\">The BBC has reached out to the '\n",
            "                 'University of Michigan and the Chinese embassy in Washington '\n",
            "                 'DC for comment. </p><p class=\"sc-9a00e533-0 hxuGS\">The '\n",
            "                 'charges come amid strained relations between the US and '\n",
            "                 'China, and just days after the Trump administration vowed '\n",
            "                 'to<a target=\"_self\" '\n",
            "                 'href=\"https://www.bbc.com/news/articles/cvg78xng04xo\" '\n",
            "                 'class=\"sc-f9178328-0 bGFWdi\"> \"aggressively\" revoke the '\n",
            "                 'visas of Chinese nationals studying in the US. </a></p><p '\n",
            "                 'class=\"sc-9a00e533-0 hxuGS\">Beijing also said Washington <a '\n",
            "                 'target=\"_self\" '\n",
            "                 'href=\"https://www.bbc.com/news/articles/cj09dnzjdpzo\" '\n",
            "                 'class=\"sc-f9178328-0 bGFWdi\">\"severely violated\" a trade '\n",
            "                 'truce reached in Geneva last month</a>, when both countries '\n",
            "                 'lowered tariffs on goods imported from each other.</p><p '\n",
            "                 'class=\"sc-9a00e533-0 hxuGS\">Earlier this week, a Chinese '\n",
            "                 'student at the University of Michigan was charged for '\n",
            "                 'illegally voting in the October 2024 election. </p></div>',\n",
            " 'article_image': 'https://ichef.bbci.co.uk/news/1024/branded_news/456f/live/7ac29450-40a1-11f0-835b-310c7b938e84.jpg',\n",
            " 'article_pub_date': None,\n",
            " 'article_text': \"Chinese nationals accused of smuggling 'dangerous biological \"\n",
            "                 \"pathogen' into US\\n\"\n",
            "                 '\\n'\n",
            "                 'The two Chinese citizens allegedly sought to use the '\n",
            "                 'University of Michigan laboratory to conduct research on the '\n",
            "                 'pathogen\\n'\n",
            "                 '\\n'\n",
            "                 'The fungus called Fusarium graminearum can cause a disease '\n",
            "                 'in wheat, barley, maize and rice that can wipe out crops and '\n",
            "                 'lead to vomiting and liver damage if it gets into food.\\n'\n",
            "                 '\\n'\n",
            "                 'The complaint alleges Mr Liu tried to smuggle the fungus '\n",
            "                 'through Detroit airport so he could study it at a University '\n",
            "                 'of Michigan laboratory where his girlfriend, Ms Jian, '\n",
            "                 'worked.\\n'\n",
            "                 '\\n'\n",
            "                 'Yunqing Jian, 33, and Zunyong Liu, 34, have been charged '\n",
            "                 'with conspiracy, smuggling goods, false statements, and visa '\n",
            "                 \"fraud, the US Attorney's Office for the Eastern District of \"\n",
            "                 'Michigan announced on Tuesday.\\n'\n",
            "                 '\\n'\n",
            "                 'Two Chinese nationals have been accused of smuggling a '\n",
            "                 'fungus into the US that officials describe as a \"dangerous '\n",
            "                 'biological pathogen\".\\n'\n",
            "                 '\\n'\n",
            "                 'The fungus is described in scientific literature as a '\n",
            "                 '\"potential agroterrorism weapon\", according to the US '\n",
            "                 'Attorney\\'s Office, adding it is responsible for \"billions '\n",
            "                 'of dollars in economic losses worldwide each year.\"\\n'\n",
            "                 '\\n'\n",
            "                 'Officials further allege Ms Jian received funding from the '\n",
            "                 'Chinese government for her research on the pathogen in '\n",
            "                 'China. They also claim she is a member of the Chinese '\n",
            "                 'Communist Party.\\n'\n",
            "                 '\\n'\n",
            "                 'United States Attorney Jerome F Gorgon Jr described the '\n",
            "                 'allegations as of the \"gravest national security concerns\".\\n'\n",
            "                 '\\n'\n",
            "                 '\"These two aliens have been charged with smuggling a fungus '\n",
            "                 \"that has been described as a 'potential agroterrorism \"\n",
            "                 \"weapon' into in the [sic] heartland of America, where they \"\n",
            "                 'apparently intended to use a University of Michigan '\n",
            "                 'laboratory to further their scheme.\"\\n'\n",
            "                 '\\n'\n",
            "                 'The investigation was a joint effort between the FBI and US '\n",
            "                 'Customs and Border Protection.\\n'\n",
            "                 '\\n'\n",
            "                 'Ms Jian is due to appear in court in Detroit, Michigan on '\n",
            "                 'Tuesday.\\n'\n",
            "                 '\\n'\n",
            "                 'The BBC has reached out to the University of Michigan and '\n",
            "                 'the Chinese embassy in Washington DC for comment.\\n'\n",
            "                 '\\n'\n",
            "                 'The charges come amid strained relations between the US and '\n",
            "                 'China, and just days after the Trump administration vowed to '\n",
            "                 '\"aggressively\" revoke the visas of Chinese nationals '\n",
            "                 'studying in the US.\\n'\n",
            "                 '\\n'\n",
            "                 'Beijing also said Washington \"severely violated\" a trade '\n",
            "                 'truce reached in Geneva last month, when both countries '\n",
            "                 'lowered tariffs on goods imported from each other.\\n'\n",
            "                 '\\n'\n",
            "                 'Earlier this week, a Chinese student at the University of '\n",
            "                 'Michigan was charged for illegally voting in the October '\n",
            "                 '2024 election.',\n",
            " 'article_title': \"Chinese nationals accused of smuggling 'biological \"\n",
            "                  \"pathogen' into US\",\n",
            " 'article_url': 'https://www.bbc.com/news/articles/c4gkdppymk4o',\n",
            " 'summary': [\"Chinese nationals accused of smuggling 'dangerous biological \"\n",
            "             \"pathogen' into US. The two Chinese citizens allegedly sought to \"\n",
            "             'use the University of Michigan laboratory to conduct research on '\n",
            "             'the pathogen. Fusarium graminearum can cause a disease in wheat, '\n",
            "             'barley, maize and rice that can wipe out crops.']}\n"
          ]
        }
      ],
      "source": [
        "url = \"https://tldrthis.p.rapidapi.com/v1/model/abstractive/summarize-url/\"\n",
        "\n",
        "payload = {\n",
        "    \"url\": \"https://www.bbc.com/news/articles/c4gkdppymk4o\", # 주소   https://arxiv.org/abs/1706.03762   https://arxiv.org/pdf/1706.03762.pdf\n",
        "    \"min_length\": 100, # 최소 길이\n",
        "    \"max_length\": 300, # 최대 길이\n",
        "    \"is_detailed\": False # 한 문장으로 반환할 것인지 여부\n",
        "}\n",
        "\n",
        "headers = {\n",
        "    \"content-type\": \"application/json\",\n",
        "    \"X-RapidAPI-Key\": rapidapi_key,\n",
        "    \"X-RapidAPI-Host\": \"tldrthis.p.rapidapi.com\"\n",
        "}\n",
        "\n",
        "response = requests.request(\"POST\", url, json=payload, headers=headers)\n",
        "\n",
        "pprint(response.json())"
      ]
    },
    {
      "cell_type": "code",
      "execution_count": 46,
      "id": "59adf59d",
      "metadata": {},
      "outputs": [
        {
          "name": "stdout",
          "output_type": "stream",
          "text": [
            "Chinese nationals accused of smuggling 'dangerous biological pathogen' into US. The two Chinese citizens allegedly sought to use the University of Michigan laboratory to conduct research on the pathogen. Fusarium graminearum can cause a disease in wheat, barley, maize and rice that can wipe out crops.\n"
          ]
        }
      ],
      "source": [
        "summary = response.json()['summary'][0].strip()\n",
        "\n",
        "print(summary)"
      ]
    },
    {
      "cell_type": "code",
      "execution_count": null,
      "id": "4f49be98",
      "metadata": {},
      "outputs": [
        {
          "name": "stdout",
          "output_type": "stream",
          "text": [
            "번역된 텍스트: [\"중국인들은 '위험한 생물학적 병원체'를 우리에게 밀수 한 혐의로 기소되었습니다. 두 중국 시민은 미시간 대학교 실험실을 사용하여 병원체에 대한 연구를 수행하려고했다고 주장했다. Fusarium graminearum은 밀, 보리, 옥수수 및 쌀에서 질병을 일으켜 농작물을 닦을 수 있습니다.\"]\n"
          ]
        }
      ],
      "source": [
        "#<abstractive> - 번역\n",
        "from googletrans import Translator\n",
        "import json\n",
        "\n",
        "def translate_text(text, target_language='ko'):\n",
        "    translator = Translator()\n",
        "    translated_sentences = []\n",
        "    for sentence in text:\n",
        "        translated_sentence = translator.translate(sentence, dest=target_language)\n",
        "        translated_sentences.append(translated_sentence.text)\n",
        "    return translated_sentences\n",
        "\n",
        "# 응답받은 텍스트 디코딩\n",
        "response_text = response.text # response.content / response.text\n",
        "response_json = json.loads(response_text)\n",
        "\n",
        "# 번역할 텍스트 추출\n",
        "text_to_translate = response_json.get('summary', '')\n",
        "\n",
        "# 번역된 텍스트\n",
        "translated_text = translate_text(text_to_translate)\n",
        "\n",
        "print(\"번역된 텍스트:\", translated_text)"
      ]
    },
    {
      "cell_type": "markdown",
      "id": "142c4aa4",
      "metadata": {
        "id": "142c4aa4"
      },
      "source": [
        "## 번역\n",
        "\n",
        "네이버 파파고 API"
      ]
    },
    {
      "cell_type": "code",
      "execution_count": null,
      "id": "8bc6a8ee",
      "metadata": {
        "id": "8bc6a8ee",
        "outputId": "d1aa4fc0-c003-4288-d7a9-8c744391b84d"
      },
      "outputs": [
        {
          "name": "stdout",
          "output_type": "stream",
          "text": [
            "{'message': {'@service': 'naverservice.nmt.proxy',\n",
            "             '@type': 'response',\n",
            "             '@version': '1.0.0',\n",
            "             'result': {'dict': None,\n",
            "                        'engineType': 'UNDEF_MULTI_SENTENCE',\n",
            "                        'pivot': None,\n",
            "                        'srcLangType': 'en',\n",
            "                        'tarDict': None,\n",
            "                        'tarLangType': 'ko',\n",
            "                        'translatedText': '우리는 주의 메커니즘만을 기반으로 하는 새로운 간단한 네트워크 '\n",
            "                                          '아키텍처인 트랜스포머를 제안한다. 두 가지 기계 번역 작업에 '\n",
            "                                          '대한 실험은 이러한 모델이 품질 면에서 우수하면서도 병렬화가 더 '\n",
            "                                          '가능하고 교육하는 데 훨씬 적은 시간이 필요하다는 것을 '\n",
            "                                          '보여준다. Transformer는 훨씬 더 많은 병렬화를 '\n",
            "                                          '가능하게 하며 8개의 P100 GPU에서 12시간 정도 교육을 '\n",
            "                                          '받은 후 번역 품질에서 새로운 최첨단 기술에 도달할 수 '\n",
            "                                          '있습니다. 순차 연산을 줄이는 목표는 확장 신경 GPU[16], '\n",
            "                                          'ByteNet[18] 및 ConvS2S의 기초를 형성한다.'}}}\n"
          ]
        }
      ],
      "source": [
        "url = \"https://openapi.naver.com/v1/papago/n2mt\"\n",
        "\n",
        "payload = {\n",
        "    \"source\": \"en\",\n",
        "    \"target\": \"ko\",\n",
        "    \"text\": summary,\n",
        "}\n",
        "\n",
        "headers = {\n",
        "    \"content-type\": \"application/json\",\n",
        "    \"X-Naver-Client-Id\": naver_client_id,\n",
        "    \"X-Naver-Client-Secret\": naver_client_secret,\n",
        "}\n",
        "\n",
        "response = requests.request(\"POST\", url, json=payload, headers=headers)\n",
        "\n",
        "pprint(response.json())"
      ]
    },
    {
      "cell_type": "code",
      "execution_count": null,
      "id": "e204b577",
      "metadata": {
        "id": "e204b577",
        "outputId": "4facf50c-ae74-4ab3-c346-7457cb1d5a91"
      },
      "outputs": [
        {
          "name": "stdout",
          "output_type": "stream",
          "text": [
            "우리는 주의 메커니즘만을 기반으로 하는 새로운 간단한 네트워크 아키텍처인 트랜스포머를 제안한다. 두 가지 기계 번역 작업에 대한 실험은 이러한 모델이 품질 면에서 우수하면서도 병렬화가 더 가능하고 교육하는 데 훨씬 적은 시간이 필요하다는 것을 보여준다. Transformer는 훨씬 더 많은 병렬화를 가능하게 하며 8개의 P100 GPU에서 12시간 정도 교육을 받은 후 번역 품질에서 새로운 최첨단 기술에 도달할 수 있습니다. 순차 연산을 줄이는 목표는 확장 신경 GPU[16], ByteNet[18] 및 ConvS2S의 기초를 형성한다.\n"
          ]
        }
      ],
      "source": [
        "print(response.json()['message']['result']['translatedText'])"
      ]
    },
    {
      "cell_type": "markdown",
      "id": "df0b8837",
      "metadata": {
        "id": "df0b8837"
      },
      "source": [
        "## 함수화"
      ]
    },
    {
      "cell_type": "code",
      "execution_count": null,
      "id": "3ef2e310",
      "metadata": {
        "id": "3ef2e310"
      },
      "outputs": [],
      "source": [
        "def summarize_and_translate(article_url, min_length=100, max_length=300):\n",
        "    url = \"https://tldrthis.p.rapidapi.com/v1/model/abstractive/summarize-url/\"\n",
        "\n",
        "    payload = {\n",
        "        \"url\": article_url, # 주소\n",
        "        \"min_length\": min_length, # 최소 길이\n",
        "        \"max_length\": max_length, # 최대 길이\n",
        "        \"is_detailed\": False # 한 문장으로 반환할 것인지 여부\n",
        "    }\n",
        "\n",
        "    headers = {\n",
        "        \"content-type\": \"application/json\",\n",
        "        \"X-RapidAPI-Key\": rapidapi_key,\n",
        "        \"X-RapidAPI-Host\": \"tldrthis.p.rapidapi.com\"\n",
        "    }\n",
        "\n",
        "    response = requests.request(\"POST\", url, json=payload, headers=headers)\n",
        "\n",
        "    summary = response.json()['summary'][0].strip()\n",
        "\n",
        "    url = \"https://openapi.naver.com/v1/papago/n2mt\"\n",
        "\n",
        "    payload = {\n",
        "        \"source\": \"en\",\n",
        "        \"target\": \"ko\",\n",
        "        \"text\": summary,\n",
        "    }\n",
        "\n",
        "    headers = {\n",
        "        \"content-type\": \"application/json\",\n",
        "        \"X-Naver-Client-Id\": naver_client_id,\n",
        "        \"X-Naver-Client-Secret\": naver_client_secret\n",
        "    }\n",
        "\n",
        "    response = requests.request(\"POST\", url, json=payload, headers=headers)\n",
        "\n",
        "    return response.json()['message']['result']['translatedText']"
      ]
    },
    {
      "cell_type": "markdown",
      "id": "6299fdcc",
      "metadata": {},
      "source": [
        "- 구글 번역"
      ]
    },
    {
      "cell_type": "code",
      "execution_count": 10,
      "id": "1d1e26a3",
      "metadata": {},
      "outputs": [],
      "source": [
        "from PyPDF2 import PdfReader\n",
        "from transformers import pipeline\n",
        "from googletrans import Translator\n",
        "import requests\n",
        "import tempfile\n",
        "\n",
        "def summarize_and_translate(pdf_url, min_length=50, max_length=100):\n",
        "    # 1. PDF 다운로드 및 읽기\n",
        "    response = requests.get(pdf_url)\n",
        "    with tempfile.NamedTemporaryFile(delete=False, suffix=\".pdf\") as tmp_pdf:\n",
        "        tmp_pdf.write(response.content)\n",
        "        tmp_path = tmp_pdf.name\n",
        "\n",
        "    reader = PdfReader(tmp_path)\n",
        "    text = \" \".join([page.extract_text() or \"\" for page in reader.pages])\n",
        "\n",
        "    # 2. 요약 (HuggingFace transformer 요약 모델 사용)\n",
        "    summarizer = pipeline(\"summarization\", model=\"sshleifer/distilbart-cnn-12-6\")\n",
        "    summary_chunks = summarizer(text[:2000], min_length=min_length, max_length=max_length)  # 일부만 요약\n",
        "    summary_text = summary_chunks[0]['summary_text']\n",
        "\n",
        "    # 3. 번역 (googletrans)\n",
        "    translator = Translator()\n",
        "    translated = translator.translate(summary_text, src='en', dest='ko')\n",
        "\n",
        "    return translated.text"
      ]
    },
    {
      "cell_type": "markdown",
      "id": "5301c4ff",
      "metadata": {},
      "source": [
        "### 구글번역"
      ]
    },
    {
      "cell_type": "code",
      "execution_count": null,
      "id": "88afea5a",
      "metadata": {
        "id": "88afea5a",
        "outputId": "2d6021f9-ecd2-4324-f58c-604ee6d04206"
      },
      "outputs": [
        {
          "name": "stderr",
          "output_type": "stream",
          "text": [
            "c:\\Users\\302-26\\anaconda3\\envs\\nlp_env\\lib\\site-packages\\huggingface_hub\\file_download.py:143: UserWarning: `huggingface_hub` cache-system uses symlinks by default to efficiently store duplicated files but your machine does not support them in C:\\Users\\302-26\\.cache\\huggingface\\hub\\models--sshleifer--distilbart-cnn-12-6. Caching files will still work but in a degraded version that might require more space on your disk. This warning can be disabled by setting the `HF_HUB_DISABLE_SYMLINKS_WARNING` environment variable. For more details, see https://huggingface.co/docs/huggingface_hub/how-to-cache#limitations.\n",
            "To support symlinks on Windows, you either need to activate Developer Mode or to run Python as an administrator. In order to activate developer mode, see this article: https://docs.microsoft.com/en-us/windows/apps/get-started/enable-your-device-for-development\n",
            "  warnings.warn(message)\n",
            "Device set to use cpu\n"
          ]
        },
        {
          "data": {
            "text/plain": [
              "'이에 따라 Google은 저널리즘 또는 학술 작품에만 사용하기 위해이 백서의 테이블과 수치를 제작할 수있는 권한을 부여합니다. 우리는 새로운 간단한 네트워크 아키텍처 인 Transformer를 제안합니다.주의 메커니즘 만 기반으로 재발 및 컨볼 루션으로 분배됩니다. 트랜스포머는 영어 선거구 구문 분석에 성공적으로 적용하여 다른 작업에 잘 맞습니다.'"
            ]
          },
          "execution_count": 11,
          "metadata": {},
          "output_type": "execute_result"
        }
      ],
      "source": [
        "summarize_and_translate(\"https://arxiv.org/pdf/1706.03762.pdf\", 50, 100) "
      ]
    },
    {
      "cell_type": "code",
      "execution_count": 12,
      "id": "803f52ca",
      "metadata": {},
      "outputs": [
        {
          "name": "stderr",
          "output_type": "stream",
          "text": [
            "Device set to use cpu\n"
          ]
        },
        {
          "data": {
            "text/plain": [
              "'EfficientNet : Convolutional Neural Network를위한 모델 스케일링을 다시 생각하면 성능이 향상 될 수 있습니다. Mingxing Tan은 간단하면서도 효율적인 화합물 계수를 사용하여 네트워크 깊이/너비/해상도의 모든 차원을 균일하게 스케일링하는 새로운 스케일링 업 방법을 제안합니다. 우리는 up.com/tensorflow/tpu/tpu/tree/tree/.master/models/official/net에 대한이 방법의 효과를 보여줍니다.'"
            ]
          },
          "execution_count": 12,
          "metadata": {},
          "output_type": "execute_result"
        }
      ],
      "source": [
        "summarize_and_translate(\"https://arxiv.org/pdf/1905.11946.pdf\", 100, 200)"
      ]
    },
    {
      "cell_type": "markdown",
      "id": "5082bc4b",
      "metadata": {},
      "source": [
        "### 네이버 번역\n",
        "'우리는 주의 메커니즘만을 기반으로 하는 새로운 간단한 네트워크 아키텍처인 트랜스포머를 제안한다. 두 가지 기계 번역 작업에 대한 실험은 이러한 모델이 품질 면에서 우수하면서도 병렬화가 더 가능하고 교육하는 데 훨씬 적은 시간이 필요하다는 것을 보여준다. 트랜스포머는 훨씬 더 많은 병렬화를 가능하게 하며 8개의 P100에서 12시간 동안만 교육을 받은 후 번역 품질에서 새로운 기술에 도달할 수 있습니다.'"
      ]
    },
    {
      "cell_type": "code",
      "execution_count": null,
      "id": "52a35173",
      "metadata": {
        "id": "52a35173",
        "outputId": "236d79fd-f8ce-45c7-a20e-7ec54389fc1d"
      },
      "outputs": [
        {
          "data": {
            "text/plain": [
              "'EfficientNet-B7은 ImageNet에서 최고 84.3%의 정확도를 달성하는 동시에 기존 최고의 ConvNet보다 8.4배 작고 추론 속도가 6.1배 빠르다. 우리의 EfficientNets는 다른 ConvNets를 크게 능가한다. 이전 작업에서는 깊이, 너비, 이미지 크기 등 세 가지 차원 중 하나만 스케일링하는 것이 일반적이다. 단순하지만 매우 효과적인 복합 계수를 사용하여 깊이/폭/해상도의 모든 차원을 균일하게 확장하는 단순하지만 효과적인 복합 스케일링 방법을 제안한다. 예를 들어, 우리가 2N배 더 많은 계산 자원을 사용하고 싶다면, 우리는 단순히 원래 모델에서 네트워크를 작은 그리드만큼 늘릴 수 있다.'"
            ]
          },
          "execution_count": 51,
          "metadata": {},
          "output_type": "execute_result"
        }
      ],
      "source": [
        "summarize_and_translate(\"https://arxiv.org/pdf/1905.11946.pdf\", 100, 200)"
      ]
    }
  ],
  "metadata": {
    "colab": {
      "provenance": []
    },
    "kernelspec": {
      "display_name": "nlp_env",
      "language": "python",
      "name": "python3"
    },
    "language_info": {
      "codemirror_mode": {
        "name": "ipython",
        "version": 3
      },
      "file_extension": ".py",
      "mimetype": "text/x-python",
      "name": "python",
      "nbconvert_exporter": "python",
      "pygments_lexer": "ipython3",
      "version": "3.10.16"
    }
  },
  "nbformat": 4,
  "nbformat_minor": 5
}
